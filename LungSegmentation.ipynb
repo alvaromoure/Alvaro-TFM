{
 "cells": [
  {
   "cell_type": "code",
   "execution_count": 1,
   "metadata": {
    "pycharm": {
     "name": "#%%\n"
    }
   },
   "outputs": [],
   "source": [
    "from tensorflow.keras.models import load_model\n",
    "import numpy as np\n",
    "from skimage import transform, io, img_as_float, exposure, morphology, img_as_ubyte\n",
    "import matplotlib.pyplot as plt\n",
    "import os\n",
    "from PIL import Image\n",
    "from shutil import move\n",
    "import cv2 "
   ]
  },
  {
   "cell_type": "code",
   "execution_count": 2,
   "metadata": {
    "pycharm": {
     "name": "#%%\n"
    }
   },
   "outputs": [],
   "source": [
    "BASE_PATH = os.path.dirname(os.path.realpath(__name__))\n",
    "BASE_PATH = '/Users/alvaromoure/Desarrollo/UPM/TFM/Alvaro-TFM'"
   ]
  },
  {
   "cell_type": "code",
   "execution_count": 3,
   "metadata": {
    "pycharm": {
     "name": "#%%\n"
    }
   },
   "outputs": [
    {
     "name": "stderr",
     "output_type": "stream",
     "text": [
      "2022-05-08 11:47:06.787313: I tensorflow/core/platform/cpu_feature_guard.cc:151] This TensorFlow binary is optimized with oneAPI Deep Neural Network Library (oneDNN) to use the following CPU instructions in performance-critical operations:  AVX2 FMA\n",
      "To enable them in other operations, rebuild TensorFlow with the appropriate compiler flags.\n"
     ]
    },
    {
     "name": "stdout",
     "output_type": "stream",
     "text": [
      "WARNING:tensorflow:Error in loading the saved optimizer state. As a result, your model is starting with a freshly initialized optimizer.\n"
     ]
    }
   ],
   "source": [
    "# Load model\n",
    "\n",
    "# model_name = '/home/julian/Documents/PythonExperiments/COVIDNet/segmenter/trained_model.hdf5'\n",
    "model_name = os.path.join(BASE_PATH,'segmenter','trained_model.hdf5')\n",
    "UNet = load_model(model_name)"
   ]
  },
  {
   "cell_type": "code",
   "execution_count": 5,
   "metadata": {
    "pycharm": {
     "name": "#%%\n"
    }
   },
   "outputs": [],
   "source": [
    "def loadDataGeneral(path, im_shape):\n",
    "    \"\"\"Function for loading arbitrary data in standard formats\"\"\"\n",
    "    X = []   \n",
    "    image = Image.open(path).convert('RGB')\n",
    "    image = cv2.imread(path)\n",
    "    #image = cv2.cvtColor(image,cv2.COLOR_BGR2GRAY)\n",
    "    image = np.array(image)\n",
    "    img = img_as_float(image)\n",
    "    img = transform.resize(img, im_shape)\n",
    "    img = exposure.equalize_hist(img)\n",
    "    img = np.expand_dims(img, -1)\n",
    "    X.append(img)\n",
    "    X = np.array(X)\n",
    "    X -= X.mean()\n",
    "    X /= X.std()\n",
    "    return X, img"
   ]
  },
  {
   "cell_type": "code",
   "execution_count": 6,
   "metadata": {
    "pycharm": {
     "name": "#%%\n"
    }
   },
   "outputs": [],
   "source": [
    "def remove_small_regions(img, size):\n",
    "    \"\"\"Morphologically removes small (less than size) connected regions of 0s or 1s.\"\"\"\n",
    "    img = morphology.remove_small_objects(img, size)\n",
    "    img = morphology.remove_small_holes(img, size)\n",
    "    return img"
   ]
  },
  {
   "cell_type": "code",
   "execution_count": 7,
   "metadata": {
    "pycharm": {
     "name": "#%%\n"
    }
   },
   "outputs": [
    {
     "name": "stderr",
     "output_type": "stream",
     "text": [
      "/Users/alvaromoure/Desarrollo/UPM/LSMA/venv/lib/python3.8/site-packages/skimage/_shared/utils.py:394: UserWarning: This might be a color image. The histogram will be computed on the flattened image. You can instead apply this function to each color channel, or set channel_axis.\n",
      "  return func(*args, **kwargs)\n"
     ]
    },
    {
     "ename": "KeyboardInterrupt",
     "evalue": "",
     "output_type": "error",
     "traceback": [
      "\u001B[0;31m---------------------------------------------------------------------------\u001B[0m",
      "\u001B[0;31mKeyboardInterrupt\u001B[0m                         Traceback (most recent call last)",
      "Input \u001B[0;32mIn [7]\u001B[0m, in \u001B[0;36m<cell line: 26>\u001B[0;34m()\u001B[0m\n\u001B[1;32m     27\u001B[0m \u001B[38;5;28;01mtry\u001B[39;00m:\n\u001B[1;32m     28\u001B[0m     image_name \u001B[38;5;241m=\u001B[39m path \u001B[38;5;241m+\u001B[39m file\n\u001B[0;32m---> 29\u001B[0m     X,img_org \u001B[38;5;241m=\u001B[39m \u001B[43mloadDataGeneral\u001B[49m\u001B[43m(\u001B[49m\u001B[43mimage_name\u001B[49m\u001B[43m,\u001B[49m\u001B[43m \u001B[49m\u001B[43mim_shape\u001B[49m\u001B[43m)\u001B[49m\n\u001B[1;32m     30\u001B[0m     img \u001B[38;5;241m=\u001B[39m exposure\u001B[38;5;241m.\u001B[39mrescale_intensity(np\u001B[38;5;241m.\u001B[39msqueeze(X), out_range\u001B[38;5;241m=\u001B[39m(\u001B[38;5;241m0\u001B[39m,\u001B[38;5;241m1\u001B[39m))\n\u001B[1;32m     31\u001B[0m     img \u001B[38;5;241m=\u001B[39m np\u001B[38;5;241m.\u001B[39msum(img,axis\u001B[38;5;241m=\u001B[39m\u001B[38;5;241m2\u001B[39m)[\u001B[38;5;28;01mNone\u001B[39;00m,:,:,\u001B[38;5;28;01mNone\u001B[39;00m]\n",
      "Input \u001B[0;32mIn [5]\u001B[0m, in \u001B[0;36mloadDataGeneral\u001B[0;34m(path, im_shape)\u001B[0m\n\u001B[1;32m      7\u001B[0m image \u001B[38;5;241m=\u001B[39m np\u001B[38;5;241m.\u001B[39marray(image)\n\u001B[1;32m      8\u001B[0m img \u001B[38;5;241m=\u001B[39m img_as_float(image)\n\u001B[0;32m----> 9\u001B[0m img \u001B[38;5;241m=\u001B[39m \u001B[43mtransform\u001B[49m\u001B[38;5;241;43m.\u001B[39;49m\u001B[43mresize\u001B[49m\u001B[43m(\u001B[49m\u001B[43mimg\u001B[49m\u001B[43m,\u001B[49m\u001B[43m \u001B[49m\u001B[43mim_shape\u001B[49m\u001B[43m)\u001B[49m\n\u001B[1;32m     10\u001B[0m img \u001B[38;5;241m=\u001B[39m exposure\u001B[38;5;241m.\u001B[39mequalize_hist(img)\n\u001B[1;32m     11\u001B[0m img \u001B[38;5;241m=\u001B[39m np\u001B[38;5;241m.\u001B[39mexpand_dims(img, \u001B[38;5;241m-\u001B[39m\u001B[38;5;241m1\u001B[39m)\n",
      "File \u001B[0;32m~/Desarrollo/UPM/LSMA/venv/lib/python3.8/site-packages/skimage/transform/_warps.py:181\u001B[0m, in \u001B[0;36mresize\u001B[0;34m(image, output_shape, order, mode, cval, clip, preserve_range, anti_aliasing, anti_aliasing_sigma)\u001B[0m\n\u001B[1;32m    178\u001B[0m         \u001B[38;5;28;01melif\u001B[39;00m np\u001B[38;5;241m.\u001B[39many((anti_aliasing_sigma \u001B[38;5;241m>\u001B[39m \u001B[38;5;241m0\u001B[39m) \u001B[38;5;241m&\u001B[39m (factors \u001B[38;5;241m<\u001B[39m\u001B[38;5;241m=\u001B[39m \u001B[38;5;241m1\u001B[39m)):\n\u001B[1;32m    179\u001B[0m             warn(\u001B[38;5;124m\"\u001B[39m\u001B[38;5;124mAnti-aliasing standard deviation greater than zero but \u001B[39m\u001B[38;5;124m\"\u001B[39m\n\u001B[1;32m    180\u001B[0m                  \u001B[38;5;124m\"\u001B[39m\u001B[38;5;124mnot down-sampling along all axes\u001B[39m\u001B[38;5;124m\"\u001B[39m)\n\u001B[0;32m--> 181\u001B[0m     image \u001B[38;5;241m=\u001B[39m \u001B[43mndi\u001B[49m\u001B[38;5;241;43m.\u001B[39;49m\u001B[43mgaussian_filter\u001B[49m\u001B[43m(\u001B[49m\u001B[43mimage\u001B[49m\u001B[43m,\u001B[49m\u001B[43m \u001B[49m\u001B[43manti_aliasing_sigma\u001B[49m\u001B[43m,\u001B[49m\n\u001B[1;32m    182\u001B[0m \u001B[43m                                \u001B[49m\u001B[43mcval\u001B[49m\u001B[38;5;241;43m=\u001B[39;49m\u001B[43mcval\u001B[49m\u001B[43m,\u001B[49m\u001B[43m \u001B[49m\u001B[43mmode\u001B[49m\u001B[38;5;241;43m=\u001B[39;49m\u001B[43mndi_mode\u001B[49m\u001B[43m)\u001B[49m\n\u001B[1;32m    184\u001B[0m \u001B[38;5;28;01mif\u001B[39;00m NumpyVersion(scipy\u001B[38;5;241m.\u001B[39m__version__) \u001B[38;5;241m>\u001B[39m\u001B[38;5;241m=\u001B[39m \u001B[38;5;124m'\u001B[39m\u001B[38;5;124m1.6.0\u001B[39m\u001B[38;5;124m'\u001B[39m:\n\u001B[1;32m    185\u001B[0m     \u001B[38;5;66;03m# The grid_mode kwarg was introduced in SciPy 1.6.0\u001B[39;00m\n\u001B[1;32m    186\u001B[0m     zoom_factors \u001B[38;5;241m=\u001B[39m [\u001B[38;5;241m1\u001B[39m \u001B[38;5;241m/\u001B[39m f \u001B[38;5;28;01mfor\u001B[39;00m f \u001B[38;5;129;01min\u001B[39;00m factors]\n",
      "File \u001B[0;32m~/Desarrollo/UPM/LSMA/venv/lib/python3.8/site-packages/scipy/ndimage/_filters.py:342\u001B[0m, in \u001B[0;36mgaussian_filter\u001B[0;34m(input, sigma, order, output, mode, cval, truncate)\u001B[0m\n\u001B[1;32m    340\u001B[0m \u001B[38;5;28;01mif\u001B[39;00m \u001B[38;5;28mlen\u001B[39m(axes) \u001B[38;5;241m>\u001B[39m \u001B[38;5;241m0\u001B[39m:\n\u001B[1;32m    341\u001B[0m     \u001B[38;5;28;01mfor\u001B[39;00m axis, sigma, order, mode \u001B[38;5;129;01min\u001B[39;00m axes:\n\u001B[0;32m--> 342\u001B[0m         \u001B[43mgaussian_filter1d\u001B[49m\u001B[43m(\u001B[49m\u001B[38;5;28;43minput\u001B[39;49m\u001B[43m,\u001B[49m\u001B[43m \u001B[49m\u001B[43msigma\u001B[49m\u001B[43m,\u001B[49m\u001B[43m \u001B[49m\u001B[43maxis\u001B[49m\u001B[43m,\u001B[49m\u001B[43m \u001B[49m\u001B[43morder\u001B[49m\u001B[43m,\u001B[49m\u001B[43m \u001B[49m\u001B[43moutput\u001B[49m\u001B[43m,\u001B[49m\n\u001B[1;32m    343\u001B[0m \u001B[43m                          \u001B[49m\u001B[43mmode\u001B[49m\u001B[43m,\u001B[49m\u001B[43m \u001B[49m\u001B[43mcval\u001B[49m\u001B[43m,\u001B[49m\u001B[43m \u001B[49m\u001B[43mtruncate\u001B[49m\u001B[43m)\u001B[49m\n\u001B[1;32m    344\u001B[0m         \u001B[38;5;28minput\u001B[39m \u001B[38;5;241m=\u001B[39m output\n\u001B[1;32m    345\u001B[0m \u001B[38;5;28;01melse\u001B[39;00m:\n",
      "File \u001B[0;32m~/Desarrollo/UPM/LSMA/venv/lib/python3.8/site-packages/scipy/ndimage/_filters.py:261\u001B[0m, in \u001B[0;36mgaussian_filter1d\u001B[0;34m(input, sigma, axis, order, output, mode, cval, truncate)\u001B[0m\n\u001B[1;32m    259\u001B[0m \u001B[38;5;66;03m# Since we are calling correlate, not convolve, revert the kernel\u001B[39;00m\n\u001B[1;32m    260\u001B[0m weights \u001B[38;5;241m=\u001B[39m _gaussian_kernel1d(sigma, order, lw)[::\u001B[38;5;241m-\u001B[39m\u001B[38;5;241m1\u001B[39m]\n\u001B[0;32m--> 261\u001B[0m \u001B[38;5;28;01mreturn\u001B[39;00m \u001B[43mcorrelate1d\u001B[49m\u001B[43m(\u001B[49m\u001B[38;5;28;43minput\u001B[39;49m\u001B[43m,\u001B[49m\u001B[43m \u001B[49m\u001B[43mweights\u001B[49m\u001B[43m,\u001B[49m\u001B[43m \u001B[49m\u001B[43maxis\u001B[49m\u001B[43m,\u001B[49m\u001B[43m \u001B[49m\u001B[43moutput\u001B[49m\u001B[43m,\u001B[49m\u001B[43m \u001B[49m\u001B[43mmode\u001B[49m\u001B[43m,\u001B[49m\u001B[43m \u001B[49m\u001B[43mcval\u001B[49m\u001B[43m,\u001B[49m\u001B[43m \u001B[49m\u001B[38;5;241;43m0\u001B[39;49m\u001B[43m)\u001B[49m\n",
      "File \u001B[0;32m~/Desarrollo/UPM/LSMA/venv/lib/python3.8/site-packages/scipy/ndimage/_filters.py:133\u001B[0m, in \u001B[0;36mcorrelate1d\u001B[0;34m(input, weights, axis, output, mode, cval, origin)\u001B[0m\n\u001B[1;32m    129\u001B[0m     \u001B[38;5;28;01mraise\u001B[39;00m \u001B[38;5;167;01mValueError\u001B[39;00m(\u001B[38;5;124m'\u001B[39m\u001B[38;5;124mInvalid origin; origin must satisfy \u001B[39m\u001B[38;5;124m'\u001B[39m\n\u001B[1;32m    130\u001B[0m                      \u001B[38;5;124m'\u001B[39m\u001B[38;5;124m-(len(weights) // 2) <= origin <= \u001B[39m\u001B[38;5;124m'\u001B[39m\n\u001B[1;32m    131\u001B[0m                      \u001B[38;5;124m'\u001B[39m\u001B[38;5;124m(len(weights)-1) // 2\u001B[39m\u001B[38;5;124m'\u001B[39m)\n\u001B[1;32m    132\u001B[0m mode \u001B[38;5;241m=\u001B[39m _ni_support\u001B[38;5;241m.\u001B[39m_extend_mode_to_code(mode)\n\u001B[0;32m--> 133\u001B[0m \u001B[43m_nd_image\u001B[49m\u001B[38;5;241;43m.\u001B[39;49m\u001B[43mcorrelate1d\u001B[49m\u001B[43m(\u001B[49m\u001B[38;5;28;43minput\u001B[39;49m\u001B[43m,\u001B[49m\u001B[43m \u001B[49m\u001B[43mweights\u001B[49m\u001B[43m,\u001B[49m\u001B[43m \u001B[49m\u001B[43maxis\u001B[49m\u001B[43m,\u001B[49m\u001B[43m \u001B[49m\u001B[43moutput\u001B[49m\u001B[43m,\u001B[49m\u001B[43m \u001B[49m\u001B[43mmode\u001B[49m\u001B[43m,\u001B[49m\u001B[43m \u001B[49m\u001B[43mcval\u001B[49m\u001B[43m,\u001B[49m\n\u001B[1;32m    134\u001B[0m \u001B[43m                      \u001B[49m\u001B[43morigin\u001B[49m\u001B[43m)\u001B[49m\n\u001B[1;32m    135\u001B[0m \u001B[38;5;28;01mreturn\u001B[39;00m output\n",
      "\u001B[0;31mKeyboardInterrupt\u001B[0m: "
     ]
    }
   ],
   "source": [
    "im_shape = (256, 256)\n",
    "#path = '/home/julian/Documents/PythonExperiments/COVIDNet/Datos/DatosExperimentos_3/OrgImages/'\n",
    "#path = os.path.join(BASE_PATH,'data','OrgImages\\\\')\n",
    "path = '/Volumes/GoogleDrive/Mi unidad/UPM/TFM_UPM/datasets/hackathon/TrainSetGood/'\n",
    "#path2 = '/home/julian/Documents/PythonExperiments/COVIDNet/Datos/DatosExperimentos_3/RemoveSegmented/'\n",
    "path2 = os.path.join(BASE_PATH,'data','RemoveSegmented')\n",
    "#path3 = '/home/julian/Documents/PythonExperiments/COVIDNet/Datos/DatosExperimentos_3/BrokenFiles/'\n",
    "path3 = os.path.join(BASE_PATH,'data','BrokenFiles')\n",
    "\n",
    "path4 = os.path.join(BASE_PATH,'data','OrgImagesSegmented')\n",
    "\n",
    "if not os.path.exists(path): \n",
    "  os.makedirs(path)\n",
    "\n",
    "if not os.path.exists(path2): \n",
    "  os.makedirs(path2)\n",
    "\n",
    "if not os.path.exists(path3): \n",
    "  os.makedirs(path3)\n",
    "\n",
    "if not os.path.exists(path4): \n",
    "  os.makedirs(path4)\n",
    "\n",
    "arr = os.listdir(path + '.')\n",
    "arr.sort()\n",
    "for j,file in enumerate(arr):\n",
    "    try:\n",
    "        image_name = path + file\n",
    "        X,img_org = loadDataGeneral(image_name, im_shape)\n",
    "        img = exposure.rescale_intensity(np.squeeze(X), out_range=(0,1))\n",
    "        img = np.sum(img,axis=2)[None,:,:,None]\n",
    "        pred = UNet.predict(img)\n",
    "        #-------------------------\n",
    "        pr = pred > 0.5\n",
    "        # Remove regions smaller than 2% of the image\n",
    "        #pr = remove_small_regions(pr, 0.02 * np.prod(im_shape))\n",
    "        pr2 = np.squeeze(pr)\n",
    "        seg_img = np.squeeze(img_org)*pr2[:,:,None]#np.dstack((pr2, pr2, pr2))\n",
    "        maximo = np.max(seg_img)\n",
    "        minimo = np.min(seg_img)\n",
    "        if (maximo==0) and (minimo == 0):\n",
    "            #print(file)\n",
    "            move(image_name,path2 + file)\n",
    "        else:\n",
    "            seg_img /= maximo\n",
    "            #seg_img = (seg_img - minimo)/(maximo-minimo)\n",
    "            #io.imshow(seg_img)\n",
    "            save_path = os.path.join(path4,file)\n",
    "            io.imsave(save_path,img_as_ubyte(seg_img))\n",
    "    except Exception as e:\n",
    "      print(e)\n",
    "      move(image_name,os.path.join(path3,file))\n",
    "      #break"
   ]
  },
  {
   "cell_type": "code",
   "execution_count": null,
   "metadata": {
    "pycharm": {
     "name": "#%%\n"
    }
   },
   "outputs": [],
   "source": []
  }
 ],
 "metadata": {
  "kernelspec": {
   "display_name": "Python 3",
   "language": "python",
   "name": "python3"
  },
  "language_info": {
   "codemirror_mode": {
    "name": "ipython",
    "version": 3
   },
   "file_extension": ".py",
   "mimetype": "text/x-python",
   "name": "python",
   "nbconvert_exporter": "python",
   "pygments_lexer": "ipython3",
   "version": "3.9.7"
  }
 },
 "nbformat": 4,
 "nbformat_minor": 4
}