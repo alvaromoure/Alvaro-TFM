{
 "cells": [
  {
   "cell_type": "code",
   "execution_count": 1,
   "metadata": {
    "collapsed": true,
    "pycharm": {
     "name": "#%%\n"
    }
   },
   "outputs": [],
   "source": [
    "import numpy as np\n",
    "import pandas as pd\n",
    "import os\n",
    "import random\n",
    "from shutil import copyfile\n",
    "#import pydicom as dicom\n",
    "import cv2\n",
    "from pathlib import Path"
   ]
  },
  {
   "cell_type": "markdown",
   "source": [
    "# Paths Definition"
   ],
   "metadata": {
    "collapsed": false,
    "pycharm": {
     "name": "#%% md\n"
    }
   }
  },
  {
   "cell_type": "markdown",
   "source": [
    "Careful, the dataset loader separates by whitespaces so in the file names there cannot be any white spaces"
   ],
   "metadata": {
    "collapsed": false,
    "pycharm": {
     "name": "#%% md\n"
    }
   }
  },
  {
   "cell_type": "markdown",
   "source": [
    "### Paths in Ubuntu"
   ],
   "metadata": {
    "collapsed": false,
    "pycharm": {
     "name": "#%% md\n"
    }
   }
  },
  {
   "cell_type": "code",
   "execution_count": 3,
   "outputs": [],
   "source": [
    "SIMM_COVID_DETECTION_PATH = \"/media/usuario/WIN10/COVID19/images/SIIM-Detection/siim-covid19-detection\"\n",
    "PAPER_IMAGES_PATH = \"/media/usuario/WIN10/COVID19/images/PaperOriginal/\"\n",
    "TEST_PATH = \"/media/usuario/WIN10/COVID19/images/test\""
   ],
   "metadata": {
    "collapsed": false,
    "pycharm": {
     "name": "#%%\n"
    }
   }
  },
  {
   "cell_type": "markdown",
   "source": [
    "### Paths in MAC"
   ],
   "metadata": {
    "collapsed": false,
    "pycharm": {
     "name": "#%% md\n"
    }
   }
  },
  {
   "cell_type": "code",
   "execution_count": 3,
   "outputs": [],
   "source": [],
   "metadata": {
    "collapsed": false,
    "pycharm": {
     "name": "#%%\n"
    }
   }
  },
  {
   "cell_type": "code",
   "execution_count": 4,
   "outputs": [],
   "source": [
    "BASE_PATH = '/Volumes/Alvaro HD/UPM/Corpus TFM/COVID'"
   ],
   "metadata": {
    "collapsed": false,
    "pycharm": {
     "name": "#%%\n"
    }
   }
  },
  {
   "cell_type": "code",
   "execution_count": 5,
   "outputs": [],
   "source": [
    "HACKATHON_PATH = os.path.join(BASE_PATH,'hackathon')\n",
    "SIIM_DETECTION_PATH = os.path.join(BASE_PATH,'siim-covid19-detection')\n",
    "PAPER_IMAGES_PATH = os.path.join(BASE_PATH,'CroppedSegmentedImages')\n",
    "COVID_QU_EX_PATH = os.path.join(BASE_PATH,'Masked-COVID-QU-Ex-dataset')"
   ],
   "metadata": {
    "collapsed": false,
    "pycharm": {
     "name": "#%%\n"
    }
   }
  },
  {
   "cell_type": "code",
   "execution_count": 17,
   "outputs": [],
   "source": [
    "train = []\n",
    "test = []\n",
    "test_count = {'normal': 0, 'pneumonia': 0, 'COVID-19': 0}\n",
    "train_count = {'normal': 0, 'pneumonia': 0, 'COVID-19': 0}\n",
    "filename_label = {'normal': [], 'pneumonia': [], 'COVID-19': []}\n",
    "path_label = {'normal': [], 'pneumonia': [], 'COVID-19': []}\n",
    "count = {'normal': 0, 'pneumonia': 0, 'COVID-19': 0}\n",
    "mapping = {0:'normal',1:'COVID-19',2:'pneumonia'}"
   ],
   "metadata": {
    "collapsed": false,
    "pycharm": {
     "name": "#%%\n"
    }
   }
  },
  {
   "cell_type": "markdown",
   "source": [
    "# Reading from paper files"
   ],
   "metadata": {
    "collapsed": false,
    "pycharm": {
     "name": "#%% md\n"
    }
   }
  },
  {
   "cell_type": "markdown",
   "source": [
    "Prepared to work in Kaggle"
   ],
   "metadata": {
    "collapsed": false,
    "pycharm": {
     "name": "#%% md\n"
    }
   }
  },
  {
   "cell_type": "code",
   "execution_count": 18,
   "outputs": [
    {
     "name": "stdout",
     "output_type": "stream",
     "text": [
      "{'normal': 60594, 'pneumonia': 22746, 'COVID-19': 8014}\n"
     ]
    }
   ],
   "source": [
    "for j,directory in enumerate(os.listdir(PAPER_IMAGES_PATH)):\n",
    "    if not directory.startswith('.') and not directory=='CRXNIH':\n",
    "        for i,file in enumerate(os.listdir(os.path.join(PAPER_IMAGES_PATH,directory))):\n",
    "            try:\n",
    "                cat = int(file.split('__')[1])\n",
    "            except Exception as e:\n",
    "                cat = int(file.split('_')[1])\n",
    "            finally:\n",
    "                count[mapping[cat]] += 1\n",
    "                entry = [int(count[mapping[cat]]),'paperoriginal'+ '/'+ 'CroppedSegmentedImages' + '/'+ directory + '/' + file,mapping[cat]]\n",
    "                filename_label[mapping[cat]].append(entry)\n",
    "print(count)"
   ],
   "metadata": {
    "collapsed": false,
    "pycharm": {
     "name": "#%%\n"
    }
   }
  },
  {
   "cell_type": "markdown",
   "source": [
    "# Reading from SIIM-COVID-Detection"
   ],
   "metadata": {
    "collapsed": false,
    "pycharm": {
     "name": "#%% md\n"
    }
   }
  },
  {
   "cell_type": "code",
   "execution_count": 20,
   "outputs": [],
   "source": [
    "image_level_df = pd.read_csv(os.path.join(SIIM_DETECTION_PATH,'train_image_level.csv'))\n",
    "study_level_df = pd.read_csv(os.path.join(SIIM_DETECTION_PATH,'train_study_level.csv'))"
   ],
   "metadata": {
    "collapsed": false,
    "pycharm": {
     "name": "#%%\n"
    }
   }
  },
  {
   "cell_type": "code",
   "execution_count": 8,
   "outputs": [
    {
     "data": {
      "text/plain": "                   id                                              boxes  \\\n0  000a312787f2_image  [{'x': 789.28836, 'y': 582.43035, 'width': 102...   \n1  000c3a3f293f_image                                                NaN   \n\n                                               label StudyInstanceUID  \n0  opacity 1 789.28836 582.43035 1815.94498 2499....     5776db0cec75  \n1                                     none 1 0 0 1 1     ff0879eb20ed  ",
      "text/html": "<div>\n<style scoped>\n    .dataframe tbody tr th:only-of-type {\n        vertical-align: middle;\n    }\n\n    .dataframe tbody tr th {\n        vertical-align: top;\n    }\n\n    .dataframe thead th {\n        text-align: right;\n    }\n</style>\n<table border=\"1\" class=\"dataframe\">\n  <thead>\n    <tr style=\"text-align: right;\">\n      <th></th>\n      <th>id</th>\n      <th>boxes</th>\n      <th>label</th>\n      <th>StudyInstanceUID</th>\n    </tr>\n  </thead>\n  <tbody>\n    <tr>\n      <th>0</th>\n      <td>000a312787f2_image</td>\n      <td>[{'x': 789.28836, 'y': 582.43035, 'width': 102...</td>\n      <td>opacity 1 789.28836 582.43035 1815.94498 2499....</td>\n      <td>5776db0cec75</td>\n    </tr>\n    <tr>\n      <th>1</th>\n      <td>000c3a3f293f_image</td>\n      <td>NaN</td>\n      <td>none 1 0 0 1 1</td>\n      <td>ff0879eb20ed</td>\n    </tr>\n  </tbody>\n</table>\n</div>"
     },
     "execution_count": 8,
     "metadata": {},
     "output_type": "execute_result"
    }
   ],
   "source": [
    "image_level_df.head(2)"
   ],
   "metadata": {
    "collapsed": false,
    "pycharm": {
     "name": "#%%\n"
    }
   }
  },
  {
   "cell_type": "code",
   "execution_count": 9,
   "outputs": [
    {
     "data": {
      "text/plain": "                   id  Negative for Pneumonia  Typical Appearance  \\\n0  00086460a852_study                       0                   1   \n1  000c9c05fd14_study                       0                   0   \n\n   Indeterminate Appearance  Atypical Appearance  \n0                         0                    0  \n1                         0                    1  ",
      "text/html": "<div>\n<style scoped>\n    .dataframe tbody tr th:only-of-type {\n        vertical-align: middle;\n    }\n\n    .dataframe tbody tr th {\n        vertical-align: top;\n    }\n\n    .dataframe thead th {\n        text-align: right;\n    }\n</style>\n<table border=\"1\" class=\"dataframe\">\n  <thead>\n    <tr style=\"text-align: right;\">\n      <th></th>\n      <th>id</th>\n      <th>Negative for Pneumonia</th>\n      <th>Typical Appearance</th>\n      <th>Indeterminate Appearance</th>\n      <th>Atypical Appearance</th>\n    </tr>\n  </thead>\n  <tbody>\n    <tr>\n      <th>0</th>\n      <td>00086460a852_study</td>\n      <td>0</td>\n      <td>1</td>\n      <td>0</td>\n      <td>0</td>\n    </tr>\n    <tr>\n      <th>1</th>\n      <td>000c9c05fd14_study</td>\n      <td>0</td>\n      <td>0</td>\n      <td>0</td>\n      <td>1</td>\n    </tr>\n  </tbody>\n</table>\n</div>"
     },
     "execution_count": 9,
     "metadata": {},
     "output_type": "execute_result"
    }
   ],
   "source": [
    "study_level_df.head(2)"
   ],
   "metadata": {
    "collapsed": false,
    "pycharm": {
     "name": "#%%\n"
    }
   }
  },
  {
   "cell_type": "code",
   "execution_count": 21,
   "outputs": [
    {
     "data": {
      "text/plain": "                id                                              boxes  \\\n2651  65761e66de9f  [{'x': 720.65215, 'y': 636.51048, 'width': 332...   \n2152  51759b5579bc                                                NaN   \n6098  f6293b1c49e2                                                NaN   \n1276  3019399c31f4                                                NaN   \n4717  bb4b1da810f3  [{'x': 812.54698, 'y': 1376.41291, 'width': 62...   \n...            ...                                                ...   \n779   1c96d9b08487                                                NaN   \n5768  e6215d0188e5  [{'x': 364.93056, 'y': 870.04017, 'width': 731...   \n3245  7d27b1bb3987  [{'x': 28.48292, 'y': 828.48474, 'width': 1116...   \n2170  52478e480a15  [{'x': 425.81211, 'y': 424.86147, 'width': 528...   \n3555  8a80cfa63a23  [{'x': 949.33503, 'y': 1495.82807, 'width': 71...   \n\n                                                  label StudyInstanceUID  \\\n2651  opacity 1 720.65215 636.51048 1052.84563 1284....     00086460a852   \n2152                                     none 1 0 0 1 1     000c9c05fd14   \n6098                                     none 1 0 0 1 1     00292f8c37bd   \n1276                                     none 1 0 0 1 1     005057b3f880   \n4717  opacity 1 812.54698 1376.41291 1435.14793 1806...     0051d9b12e72   \n...                                                 ...              ...   \n779                                      none 1 0 0 1 1     ffcb4630f46f   \n5768  opacity 1 364.93056 870.04017 1096.13908 2053....     ffe4d6e8fbb0   \n3245  opacity 1 28.48292 828.48474 1145.01081 2296.7...     ffe94fcb14fa   \n2170  opacity 1 425.81211 424.86147 953.95118 1579.3...     ffebf1ef4a9c   \n3555  opacity 1 949.33503 1495.82807 1666.45264 2784...     fff649d65f62   \n\n      Negative for Pneumonia  Typical Appearance  Indeterminate Appearance  \\\n2651                       0                   1                         0   \n2152                       0                   0                         0   \n6098                       1                   0                         0   \n1276                       1                   0                         0   \n4717                       0                   0                         0   \n...                      ...                 ...                       ...   \n779                        0                   1                         0   \n5768                       0                   1                         0   \n3245                       0                   1                         0   \n2170                       0                   1                         0   \n3555                       0                   1                         0   \n\n      Atypical Appearance  \n2651                    0  \n2152                    1  \n6098                    0  \n1276                    0  \n4717                    1  \n...                   ...  \n779                     0  \n5768                    0  \n3245                    0  \n2170                    0  \n3555                    0  \n\n[6334 rows x 8 columns]",
      "text/html": "<div>\n<style scoped>\n    .dataframe tbody tr th:only-of-type {\n        vertical-align: middle;\n    }\n\n    .dataframe tbody tr th {\n        vertical-align: top;\n    }\n\n    .dataframe thead th {\n        text-align: right;\n    }\n</style>\n<table border=\"1\" class=\"dataframe\">\n  <thead>\n    <tr style=\"text-align: right;\">\n      <th></th>\n      <th>id</th>\n      <th>boxes</th>\n      <th>label</th>\n      <th>StudyInstanceUID</th>\n      <th>Negative for Pneumonia</th>\n      <th>Typical Appearance</th>\n      <th>Indeterminate Appearance</th>\n      <th>Atypical Appearance</th>\n    </tr>\n  </thead>\n  <tbody>\n    <tr>\n      <th>2651</th>\n      <td>65761e66de9f</td>\n      <td>[{'x': 720.65215, 'y': 636.51048, 'width': 332...</td>\n      <td>opacity 1 720.65215 636.51048 1052.84563 1284....</td>\n      <td>00086460a852</td>\n      <td>0</td>\n      <td>1</td>\n      <td>0</td>\n      <td>0</td>\n    </tr>\n    <tr>\n      <th>2152</th>\n      <td>51759b5579bc</td>\n      <td>NaN</td>\n      <td>none 1 0 0 1 1</td>\n      <td>000c9c05fd14</td>\n      <td>0</td>\n      <td>0</td>\n      <td>0</td>\n      <td>1</td>\n    </tr>\n    <tr>\n      <th>6098</th>\n      <td>f6293b1c49e2</td>\n      <td>NaN</td>\n      <td>none 1 0 0 1 1</td>\n      <td>00292f8c37bd</td>\n      <td>1</td>\n      <td>0</td>\n      <td>0</td>\n      <td>0</td>\n    </tr>\n    <tr>\n      <th>1276</th>\n      <td>3019399c31f4</td>\n      <td>NaN</td>\n      <td>none 1 0 0 1 1</td>\n      <td>005057b3f880</td>\n      <td>1</td>\n      <td>0</td>\n      <td>0</td>\n      <td>0</td>\n    </tr>\n    <tr>\n      <th>4717</th>\n      <td>bb4b1da810f3</td>\n      <td>[{'x': 812.54698, 'y': 1376.41291, 'width': 62...</td>\n      <td>opacity 1 812.54698 1376.41291 1435.14793 1806...</td>\n      <td>0051d9b12e72</td>\n      <td>0</td>\n      <td>0</td>\n      <td>0</td>\n      <td>1</td>\n    </tr>\n    <tr>\n      <th>...</th>\n      <td>...</td>\n      <td>...</td>\n      <td>...</td>\n      <td>...</td>\n      <td>...</td>\n      <td>...</td>\n      <td>...</td>\n      <td>...</td>\n    </tr>\n    <tr>\n      <th>779</th>\n      <td>1c96d9b08487</td>\n      <td>NaN</td>\n      <td>none 1 0 0 1 1</td>\n      <td>ffcb4630f46f</td>\n      <td>0</td>\n      <td>1</td>\n      <td>0</td>\n      <td>0</td>\n    </tr>\n    <tr>\n      <th>5768</th>\n      <td>e6215d0188e5</td>\n      <td>[{'x': 364.93056, 'y': 870.04017, 'width': 731...</td>\n      <td>opacity 1 364.93056 870.04017 1096.13908 2053....</td>\n      <td>ffe4d6e8fbb0</td>\n      <td>0</td>\n      <td>1</td>\n      <td>0</td>\n      <td>0</td>\n    </tr>\n    <tr>\n      <th>3245</th>\n      <td>7d27b1bb3987</td>\n      <td>[{'x': 28.48292, 'y': 828.48474, 'width': 1116...</td>\n      <td>opacity 1 28.48292 828.48474 1145.01081 2296.7...</td>\n      <td>ffe94fcb14fa</td>\n      <td>0</td>\n      <td>1</td>\n      <td>0</td>\n      <td>0</td>\n    </tr>\n    <tr>\n      <th>2170</th>\n      <td>52478e480a15</td>\n      <td>[{'x': 425.81211, 'y': 424.86147, 'width': 528...</td>\n      <td>opacity 1 425.81211 424.86147 953.95118 1579.3...</td>\n      <td>ffebf1ef4a9c</td>\n      <td>0</td>\n      <td>1</td>\n      <td>0</td>\n      <td>0</td>\n    </tr>\n    <tr>\n      <th>3555</th>\n      <td>8a80cfa63a23</td>\n      <td>[{'x': 949.33503, 'y': 1495.82807, 'width': 71...</td>\n      <td>opacity 1 949.33503 1495.82807 1666.45264 2784...</td>\n      <td>fff649d65f62</td>\n      <td>0</td>\n      <td>1</td>\n      <td>0</td>\n      <td>0</td>\n    </tr>\n  </tbody>\n</table>\n<p>6334 rows × 8 columns</p>\n</div>"
     },
     "execution_count": 21,
     "metadata": {},
     "output_type": "execute_result"
    }
   ],
   "source": [
    "study_level_df['StudyInstanceUID'] = study_level_df['id'].apply(lambda x: x.replace('_study',''))\n",
    "study_level_df.drop('id',axis=1,inplace=True)\n",
    "train_df = image_level_df.merge(study_level_df,on='StudyInstanceUID')\n",
    "train_df['id'] = train_df['id'].apply(lambda x: x.replace('_image',''))\n",
    "train_df.sort_values(by='StudyInstanceUID',ascending=True)"
   ],
   "metadata": {
    "collapsed": false,
    "pycharm": {
     "name": "#%%\n"
    }
   }
  },
  {
   "cell_type": "code",
   "execution_count": 23,
   "outputs": [
    {
     "data": {
      "text/plain": "0fd2db233deb    9\na7335b2f9815    7\n8943d1d85097    6\na4e94133d95a    5\na0254bf8a96e    5\n               ..\ne057d156dc1b    1\nf556a329c873    1\n206b9724427d    1\ndbf24d77289c    1\n7d82d53204b8    1\nName: StudyInstanceUID, Length: 6054, dtype: int64"
     },
     "execution_count": 23,
     "metadata": {},
     "output_type": "execute_result"
    }
   ],
   "source": [
    "train_df['StudyInstanceUID'].value_counts()"
   ],
   "metadata": {
    "collapsed": false,
    "pycharm": {
     "name": "#%%\n"
    }
   }
  },
  {
   "cell_type": "code",
   "execution_count": 31,
   "outputs": [
    {
     "data": {
      "text/plain": "1       NaN\n6       NaN\n25      NaN\n26      NaN\n27      NaN\n       ... \n6322    NaN\n6324    NaN\n6325    NaN\n6329    NaN\n6330    NaN\nName: boxes, Length: 1736, dtype: object"
     },
     "execution_count": 31,
     "metadata": {},
     "output_type": "execute_result"
    }
   ],
   "source": [],
   "metadata": {
    "collapsed": false,
    "pycharm": {
     "name": "#%%\n"
    }
   }
  },
  {
   "cell_type": "code",
   "execution_count": 13,
   "outputs": [],
   "source": [
    "paths = []\n",
    "for id in train_df['id']:\n",
    "    paths.append(os.path.join(SIIM_DETECTION_PATH,'train',id + '.jpg'))"
   ],
   "metadata": {
    "collapsed": false,
    "pycharm": {
     "name": "#%%\n"
    }
   }
  },
  {
   "cell_type": "code",
   "execution_count": 14,
   "outputs": [],
   "source": [
    "labels = []\n",
    "for id in train_df['id']:\n",
    "    if (train_df[train_df['id']==id]['Negative for Pneumonia'].values == 1):\n",
    "        labels.append('normal')\n",
    "    elif (train_df[train_df['id']==id]['Typical Appearance'].values == 1):\n",
    "        labels.append('COVID-19')\n",
    "    elif (train_df[train_df['id']==id]['Indeterminate Appearance'].values == 1):\n",
    "        labels.append('COVID-19')\n",
    "    elif (train_df[train_df['id']==id]['Atypical Appearance'].values == 1):\n",
    "        labels.append('COVID-19')\n",
    "    else:\n",
    "        raise Exception"
   ],
   "metadata": {
    "collapsed": false,
    "pycharm": {
     "name": "#%%\n"
    }
   }
  },
  {
   "cell_type": "code",
   "execution_count": 15,
   "outputs": [
    {
     "name": "stdout",
     "output_type": "stream",
     "text": [
      "{'normal': 120242, 'pneumonia': 24114, 'COVID-19': 12612}\n"
     ]
    }
   ],
   "source": [
    "for j,file in enumerate(paths):\n",
    "    count[labels[j]] += 1\n",
    "    entry = [int(count[labels[j]]),file,labels[j]]\n",
    "    filename_label[labels[j]].append(entry)\n",
    "print(count)"
   ],
   "metadata": {
    "collapsed": false,
    "pycharm": {
     "name": "#%%\n"
    }
   }
  },
  {
   "cell_type": "markdown",
   "source": [
    "# Reading from Masked-COVID-QU-Ex-Dataset"
   ],
   "metadata": {
    "collapsed": false,
    "pycharm": {
     "name": "#%% md\n"
    }
   }
  },
  {
   "cell_type": "code",
   "execution_count": 19,
   "outputs": [
    {
     "name": "stdout",
     "output_type": "stream",
     "text": [
      "{'normal': 71295, 'pneumonia': 34009, 'COVID-19': 19970}\n"
     ]
    }
   ],
   "source": [
    "for i,parent_directory in enumerate(os.listdir(COVID_QU_EX_PATH)):\n",
    "    if not parent_directory.startswith('.'):\n",
    "        full_parent_directory = os.path.join(COVID_QU_EX_PATH,parent_directory)\n",
    "        for j,category in enumerate(os.listdir(full_parent_directory)):\n",
    "            if not category.startswith('.'):\n",
    "                full_category_directory = os.path.join(full_parent_directory,category)\n",
    "                for k,img_dir in enumerate(os.listdir(full_category_directory)):\n",
    "                    if not img_dir.startswith('.'):\n",
    "                        img_dir = img_dir.replace(' ','_')\n",
    "                        count[category] += 1\n",
    "                        entry = [int(count[category]) ,os.path.join('maskedcovidquexdataset',parent_directory,category,img_dir)\n",
    "                        , category]\n",
    "                        filename_label[category].append(entry)\n",
    "print(count)"
   ],
   "metadata": {
    "collapsed": false,
    "pycharm": {
     "name": "#%%\n"
    }
   }
  },
  {
   "cell_type": "markdown",
   "source": [
    "# Reading from COVID-QU-Ex-Dataset (No mask)"
   ],
   "metadata": {
    "collapsed": false,
    "pycharm": {
     "name": "#%% md\n"
    }
   }
  },
  {
   "cell_type": "code",
   "execution_count": null,
   "outputs": [],
   "source": [
    "for i,parent_directory in enumerate(os.listdir(COVID_QU_EX_PATH)):\n",
    "    if not parent_directory.startswith('.'):\n",
    "        full_parent_directory = os.path.join(COVID_QU_EX_PATH,parent_directory)\n",
    "        for j,category in enumerate(os.listdir(full_parent_directory)):\n",
    "            if not category.startswith('.'):\n",
    "                full_category_directory = os.path.join(full_parent_directory,category)\n",
    "                for k,img_dir in enumerate(os.listdir(full_category_directory)):\n",
    "                    if not img_dir.startswith('.'):\n",
    "                        count[category] += 1\n",
    "                        entry = [int(count[category]) ,os.path.join('COVID-QU-Ex-dataset',\n",
    "                                                                    'Lung Segmentation Data',\n",
    "                                                                    'Lung Segmentation Data'\n",
    "                                                                    ,parent_directory,\n",
    "                                                                    category,\n",
    "                                                                    'images',\n",
    "                                                                    img_dir)\n",
    "                        , category]\n",
    "                        filename_label[category].append(entry)\n",
    "print(count)"
   ],
   "metadata": {
    "collapsed": false,
    "pycharm": {
     "name": "#%%\n"
    }
   }
  },
  {
   "cell_type": "markdown",
   "source": [
    "### Finally, writing to txt file"
   ],
   "metadata": {
    "collapsed": false,
    "pycharm": {
     "name": "#%% md\n"
    }
   }
  },
  {
   "cell_type": "code",
   "execution_count": 20,
   "outputs": [
    {
     "name": "stdout",
     "output_type": "stream",
     "text": [
      "test count:  {'normal': 7129, 'pneumonia': 3400, 'COVID-19': 1997}\n",
      "train count:  {'normal': 64166, 'pneumonia': 30609, 'COVID-19': 17973}\n"
     ]
    }
   ],
   "source": [
    "np.random.seed(seed=2)\n",
    "test_per = 0.1\n",
    "for key in filename_label.keys():\n",
    "    if key == 'pneumonia':\n",
    "        test_patients = np.random.permutation(count[key])[:int(count[key]*test_per)]\n",
    "    elif key == 'COVID-19':\n",
    "        test_patients = np.random.permutation(count[key])[:int(count[key]*test_per)]\n",
    "    else:\n",
    "        test_patients = np.random.permutation(count[key])[:int(count[key]*test_per)]\n",
    "    for i,patient in enumerate(filename_label[key]):\n",
    "        if int(patient[0]) in test_patients:\n",
    "            test.append(patient)\n",
    "            test_count[key] += 1\n",
    "        else:\n",
    "            train.append(patient)\n",
    "            train_count[key] += 1\n",
    "\n",
    "print('test count: ', test_count)\n",
    "print('train count: ', train_count)"
   ],
   "metadata": {
    "collapsed": false,
    "pycharm": {
     "name": "#%%\n"
    }
   }
  },
  {
   "cell_type": "code",
   "execution_count": 21,
   "outputs": [],
   "source": [
    "WORK_DIR = os.path.dirname(os.path.realpath(__name__))\n",
    "WORK_DIR = Path(WORK_DIR)\n",
    "WORK_DIR = WORK_DIR.parent.absolute()\n",
    "train_file = open(os.path.join(WORK_DIR,'split_files/alvaro_train_split.txt'),\"w\")\n",
    "for sample in train:\n",
    "    info = str(sample[0]) + ' ' + sample[1] + ' ' + sample[2] + '\\n'\n",
    "    train_file.write(info)\n",
    "\n",
    "train_file.close()\n",
    "\n",
    "test_file = open(os.path.join(WORK_DIR,'split_files/alvaro_test_split.txt'), \"w\")\n",
    "for sample in test:\n",
    "    info = str(sample[0]) + ' ' + sample[1] + ' ' + sample[2] + '\\n'\n",
    "    test_file.write(info)\n",
    "\n",
    "test_file.close()"
   ],
   "metadata": {
    "collapsed": false,
    "pycharm": {
     "name": "#%%\n"
    }
   }
  },
  {
   "cell_type": "markdown",
   "source": [
    "# Building a Smaller DB for Testing"
   ],
   "metadata": {
    "collapsed": false,
    "pycharm": {
     "name": "#%% md\n"
    }
   }
  },
  {
   "cell_type": "code",
   "execution_count": 33,
   "outputs": [],
   "source": [
    "MAX_IMAGES_PER_CLASS = 1000"
   ],
   "metadata": {
    "collapsed": false,
    "pycharm": {
     "name": "#%%\n"
    }
   }
  },
  {
   "cell_type": "code",
   "execution_count": 34,
   "outputs": [],
   "source": [
    "train = []\n",
    "test = []\n",
    "test_count = {'normal': 0, 'pneumonia': 0, 'COVID-19': 0}\n",
    "train_count = {'normal': 0, 'pneumonia': 0, 'COVID-19': 0}\n",
    "filename_label = {'normal': [], 'pneumonia': [], 'COVID-19': []}\n",
    "path_label = {'normal': [], 'pneumonia': [], 'COVID-19': []}\n",
    "count = {'normal': 0, 'pneumonia': 0, 'COVID-19': 0}\n",
    "mapping = {0:'normal',1:'COVID-19',2:'pneumonia'}"
   ],
   "metadata": {
    "collapsed": false,
    "pycharm": {
     "name": "#%%\n"
    }
   }
  },
  {
   "cell_type": "markdown",
   "source": [
    "### For MAC"
   ],
   "metadata": {
    "collapsed": false,
    "pycharm": {
     "name": "#%% md\n"
    }
   }
  },
  {
   "cell_type": "code",
   "execution_count": 37,
   "outputs": [
    {
     "name": "stdout",
     "output_type": "stream",
     "text": [
      "{'normal': 1000, 'pneumonia': 1000, 'COVID-19': 1000}\n"
     ]
    }
   ],
   "source": [
    "for j,directory in enumerate(os.listdir(PAPER_IMAGES_PATH)):\n",
    "    if not directory.startswith('.'):\n",
    "        for i,file in enumerate(os.listdir(os.path.join(PAPER_IMAGES_PATH,directory))):\n",
    "            try:\n",
    "                cat = int(file.split('__')[1])\n",
    "            except Exception as e:\n",
    "                cat = int(file.split('_')[1])\n",
    "            finally:\n",
    "                if(count[mapping[cat]]<MAX_IMAGES_PER_CLASS):\n",
    "                    count[mapping[cat]] += 1\n",
    "                    entry = [int(count[mapping[cat]]),directory + '/' + file,mapping[cat]]\n",
    "                    filename_label[mapping[cat]].append(entry)\n",
    "print(count)"
   ],
   "metadata": {
    "collapsed": false,
    "pycharm": {
     "name": "#%%\n"
    }
   }
  },
  {
   "cell_type": "code",
   "execution_count": 38,
   "outputs": [
    {
     "name": "stdout",
     "output_type": "stream",
     "text": [
      "test count:  {'normal': 100, 'pneumonia': 100, 'COVID-19': 100}\n",
      "train count:  {'normal': 900, 'pneumonia': 900, 'COVID-19': 900}\n"
     ]
    }
   ],
   "source": [
    "np.random.seed(seed=2)\n",
    "test_per = 0.1\n",
    "for key in filename_label.keys():\n",
    "    if key == 'pneumonia':\n",
    "        test_patients = np.random.permutation(count[key])[:int(count[key]*test_per)]\n",
    "    elif key == 'COVID-19':\n",
    "        test_patients = np.random.permutation(count[key])[:int(count[key]*test_per)]\n",
    "    else:\n",
    "        test_patients = np.random.permutation(count[key])[:int(count[key]*test_per)]\n",
    "    for i,patient in enumerate(filename_label[key]):\n",
    "        if int(patient[0]) in test_patients:\n",
    "            test.append(patient)\n",
    "            test_count[key] += 1\n",
    "        else:\n",
    "            train.append(patient)\n",
    "            train_count[key] += 1\n",
    "\n",
    "print('test count: ', test_count)\n",
    "print('train count: ', train_count)"
   ],
   "metadata": {
    "collapsed": false,
    "pycharm": {
     "name": "#%%\n"
    }
   }
  },
  {
   "cell_type": "code",
   "execution_count": 39,
   "outputs": [],
   "source": [
    "WORK_DIR = os.path.dirname(os.path.realpath(__name__))\n",
    "WORK_DIR = Path(WORK_DIR)\n",
    "WORK_DIR = WORK_DIR.parent.absolute()\n",
    "\n",
    "train_file = open(os.path.join(WORK_DIR,'split_files/ubuntu_train_split.txt'),\"a+\")\n",
    "for sample in train:\n",
    "    info = str(sample[0]) + ' ' + sample[1] + ' ' + sample[2] + '\\n'\n",
    "    train_file.write(info)\n",
    "\n",
    "train_file.close()\n",
    "\n",
    "test_file = open(os.path.join(WORK_DIR,'split_files/ubuntu_test_split.txt'), \"a+\")\n",
    "for sample in test:\n",
    "    info = str(sample[0]) + ' ' + sample[1] + ' ' + sample[2] + '\\n'\n",
    "    test_file.write(info)\n",
    "\n",
    "test_file.close()"
   ],
   "metadata": {
    "collapsed": false,
    "pycharm": {
     "name": "#%%\n"
    }
   }
  },
  {
   "cell_type": "markdown",
   "source": [
    "# Full DB Building"
   ],
   "metadata": {
    "collapsed": false,
    "pycharm": {
     "name": "#%% md\n"
    }
   }
  },
  {
   "cell_type": "code",
   "execution_count": null,
   "outputs": [],
   "source": [
    "paths = ''"
   ],
   "metadata": {
    "collapsed": false,
    "pycharm": {
     "name": "#%%\n"
    }
   }
  }
 ],
 "metadata": {
  "kernelspec": {
   "display_name": "Python 3",
   "language": "python",
   "name": "python3"
  },
  "language_info": {
   "codemirror_mode": {
    "name": "ipython",
    "version": 2
   },
   "file_extension": ".py",
   "mimetype": "text/x-python",
   "name": "python",
   "nbconvert_exporter": "python",
   "pygments_lexer": "ipython2",
   "version": "2.7.6"
  }
 },
 "nbformat": 4,
 "nbformat_minor": 0
}