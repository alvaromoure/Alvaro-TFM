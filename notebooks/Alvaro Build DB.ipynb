{
 "cells": [
  {
   "cell_type": "code",
   "execution_count": 1,
   "metadata": {
    "collapsed": true,
    "pycharm": {
     "name": "#%%\n"
    }
   },
   "outputs": [],
   "source": [
    "import numpy as np\n",
    "import pandas as pd\n",
    "import os\n",
    "import random\n",
    "from shutil import copyfile\n",
    "#import pydicom as dicom\n",
    "import cv2\n",
    "from pathlib import Path"
   ]
  },
  {
   "cell_type": "markdown",
   "source": [
    "# Paths Definition"
   ],
   "metadata": {
    "collapsed": false,
    "pycharm": {
     "name": "#%% md\n"
    }
   }
  },
  {
   "cell_type": "markdown",
   "source": [
    "Careful, the dataset loader separates by whitespaces so in the file names there cannot be any white spaces"
   ],
   "metadata": {
    "collapsed": false,
    "pycharm": {
     "name": "#%% md\n"
    }
   }
  },
  {
   "cell_type": "markdown",
   "source": [
    "### Paths in Ubuntu"
   ],
   "metadata": {
    "collapsed": false,
    "pycharm": {
     "name": "#%% md\n"
    }
   }
  },
  {
   "cell_type": "code",
   "execution_count": 1,
   "outputs": [],
   "source": [
    "SIMM_COVID_DETECTION_PATH = \"/media/usuario/WIN10/COVID19/images/SIIM-Detection/siim-covid19-detection\"\n",
    "PAPER_IMAGES_PATH = \"/media/usuario/WIN10/COVID19/images/PaperOriginal/\"\n",
    "TEST_PATH = \"/media/usuario/WIN10/COVID19/images/test\""
   ],
   "metadata": {
    "collapsed": false,
    "pycharm": {
     "name": "#%%\n"
    }
   }
  },
  {
   "cell_type": "markdown",
   "source": [
    "### Paths in MAC"
   ],
   "metadata": {
    "collapsed": false,
    "pycharm": {
     "name": "#%% md\n"
    }
   }
  },
  {
   "cell_type": "code",
   "execution_count": 22,
   "outputs": [],
   "source": [],
   "metadata": {
    "collapsed": false,
    "pycharm": {
     "name": "#%%\n"
    }
   }
  },
  {
   "cell_type": "code",
   "execution_count": 2,
   "outputs": [],
   "source": [
    "BASE_PATH = '/Volumes/Alvaro HD/UPM/Corpus TFM/COVID'"
   ],
   "metadata": {
    "collapsed": false,
    "pycharm": {
     "name": "#%%\n"
    }
   }
  },
  {
   "cell_type": "code",
   "execution_count": 3,
   "outputs": [],
   "source": [
    "HACKATHON_PATH = os.path.join(BASE_PATH,'hackathon')\n",
    "SIIM_DETECTION_PATH = os.path.join(BASE_PATH,'siim-covid19-detection')\n",
    "PAPER_IMAGES_PATH = os.path.join(BASE_PATH,'CroppedSegmentedImages')\n",
    "COVID_QU_EX_PATH = os.path.join(BASE_PATH,'Masked-COVID-QU-Ex-dataset')"
   ],
   "metadata": {
    "collapsed": false,
    "pycharm": {
     "name": "#%%\n"
    }
   }
  },
  {
   "cell_type": "code",
   "execution_count": 4,
   "outputs": [],
   "source": [
    "train = []\n",
    "test = []\n",
    "test_count = {'normal': 0, 'pneumonia': 0, 'COVID-19': 0}\n",
    "train_count = {'normal': 0, 'pneumonia': 0, 'COVID-19': 0}\n",
    "filename_label = {'normal': [], 'pneumonia': [], 'COVID-19': []}\n",
    "path_label = {'normal': [], 'pneumonia': [], 'COVID-19': []}\n",
    "count = {'normal': 0, 'pneumonia': 0, 'COVID-19': 0}\n",
    "mapping = {0:'normal',1:'COVID-19',2:'pneumonia'}"
   ],
   "metadata": {
    "collapsed": false,
    "pycharm": {
     "name": "#%%\n"
    }
   }
  },
  {
   "cell_type": "markdown",
   "source": [
    "# Reading from paper files"
   ],
   "metadata": {
    "collapsed": false,
    "pycharm": {
     "name": "#%% md\n"
    }
   }
  },
  {
   "cell_type": "markdown",
   "source": [
    "Prepared to work in Kaggle"
   ],
   "metadata": {
    "collapsed": false,
    "pycharm": {
     "name": "#%% md\n"
    }
   }
  },
  {
   "cell_type": "code",
   "execution_count": 5,
   "outputs": [
    {
     "name": "stdout",
     "output_type": "stream",
     "text": [
      "{'normal': 60594, 'pneumonia': 22746, 'COVID-19': 8014}\n"
     ]
    }
   ],
   "source": [
    "for j,directory in enumerate(os.listdir(PAPER_IMAGES_PATH)):\n",
    "    if not directory.startswith('.') and not directory=='CRXNIH':\n",
    "        for i,file in enumerate(os.listdir(os.path.join(PAPER_IMAGES_PATH,directory))):\n",
    "            try:\n",
    "                cat = int(file.split('__')[1])\n",
    "            except Exception as e:\n",
    "                cat = int(file.split('_')[1])\n",
    "            finally:\n",
    "                count[mapping[cat]] += 1\n",
    "                entry = [int(count[mapping[cat]]),'PaperOriginal'+ '/'+ directory + '/' + file,mapping[cat]]\n",
    "                filename_label[mapping[cat]].append(entry)\n",
    "print(count)"
   ],
   "metadata": {
    "collapsed": false,
    "pycharm": {
     "name": "#%%\n"
    }
   }
  },
  {
   "cell_type": "markdown",
   "source": [
    "# Reading from SIIM-COVID-Detection"
   ],
   "metadata": {
    "collapsed": false,
    "pycharm": {
     "name": "#%% md\n"
    }
   }
  },
  {
   "cell_type": "code",
   "execution_count": 42,
   "outputs": [],
   "source": [
    "image_level_df = pd.read_csv(os.path.join(SIIM_DETECTION_PATH,'train_image_level.csv'))\n",
    "study_level_df = pd.read_csv(os.path.join(SIIM_DETECTION_PATH,'train_study_level.csv'))"
   ],
   "metadata": {
    "collapsed": false,
    "pycharm": {
     "name": "#%%\n"
    }
   }
  },
  {
   "cell_type": "code",
   "execution_count": 43,
   "outputs": [
    {
     "data": {
      "text/plain": "                   id                                              boxes  \\\n0  000a312787f2_image  [{'x': 789.28836, 'y': 582.43035, 'width': 102...   \n1  000c3a3f293f_image                                                NaN   \n\n                                               label StudyInstanceUID  \n0  opacity 1 789.28836 582.43035 1815.94498 2499....     5776db0cec75  \n1                                     none 1 0 0 1 1     ff0879eb20ed  ",
      "text/html": "<div>\n<style scoped>\n    .dataframe tbody tr th:only-of-type {\n        vertical-align: middle;\n    }\n\n    .dataframe tbody tr th {\n        vertical-align: top;\n    }\n\n    .dataframe thead th {\n        text-align: right;\n    }\n</style>\n<table border=\"1\" class=\"dataframe\">\n  <thead>\n    <tr style=\"text-align: right;\">\n      <th></th>\n      <th>id</th>\n      <th>boxes</th>\n      <th>label</th>\n      <th>StudyInstanceUID</th>\n    </tr>\n  </thead>\n  <tbody>\n    <tr>\n      <th>0</th>\n      <td>000a312787f2_image</td>\n      <td>[{'x': 789.28836, 'y': 582.43035, 'width': 102...</td>\n      <td>opacity 1 789.28836 582.43035 1815.94498 2499....</td>\n      <td>5776db0cec75</td>\n    </tr>\n    <tr>\n      <th>1</th>\n      <td>000c3a3f293f_image</td>\n      <td>NaN</td>\n      <td>none 1 0 0 1 1</td>\n      <td>ff0879eb20ed</td>\n    </tr>\n  </tbody>\n</table>\n</div>"
     },
     "execution_count": 43,
     "metadata": {},
     "output_type": "execute_result"
    }
   ],
   "source": [
    "image_level_df.head(2)"
   ],
   "metadata": {
    "collapsed": false,
    "pycharm": {
     "name": "#%%\n"
    }
   }
  },
  {
   "cell_type": "code",
   "execution_count": 44,
   "outputs": [
    {
     "data": {
      "text/plain": "                   id  Negative for Pneumonia  Typical Appearance  \\\n0  00086460a852_study                       0                   1   \n1  000c9c05fd14_study                       0                   0   \n\n   Indeterminate Appearance  Atypical Appearance  \n0                         0                    0  \n1                         0                    1  ",
      "text/html": "<div>\n<style scoped>\n    .dataframe tbody tr th:only-of-type {\n        vertical-align: middle;\n    }\n\n    .dataframe tbody tr th {\n        vertical-align: top;\n    }\n\n    .dataframe thead th {\n        text-align: right;\n    }\n</style>\n<table border=\"1\" class=\"dataframe\">\n  <thead>\n    <tr style=\"text-align: right;\">\n      <th></th>\n      <th>id</th>\n      <th>Negative for Pneumonia</th>\n      <th>Typical Appearance</th>\n      <th>Indeterminate Appearance</th>\n      <th>Atypical Appearance</th>\n    </tr>\n  </thead>\n  <tbody>\n    <tr>\n      <th>0</th>\n      <td>00086460a852_study</td>\n      <td>0</td>\n      <td>1</td>\n      <td>0</td>\n      <td>0</td>\n    </tr>\n    <tr>\n      <th>1</th>\n      <td>000c9c05fd14_study</td>\n      <td>0</td>\n      <td>0</td>\n      <td>0</td>\n      <td>1</td>\n    </tr>\n  </tbody>\n</table>\n</div>"
     },
     "execution_count": 44,
     "metadata": {},
     "output_type": "execute_result"
    }
   ],
   "source": [
    "study_level_df.head(2)"
   ],
   "metadata": {
    "collapsed": false,
    "pycharm": {
     "name": "#%%\n"
    }
   }
  },
  {
   "cell_type": "code",
   "execution_count": 45,
   "outputs": [
    {
     "data": {
      "text/plain": "             id                                              boxes  \\\n0  000a312787f2  [{'x': 789.28836, 'y': 582.43035, 'width': 102...   \n1  000c3a3f293f                                                NaN   \n2  0012ff7358bc  [{'x': 677.42216, 'y': 197.97662, 'width': 867...   \n3  001398f4ff4f  [{'x': 2729, 'y': 2181.33331, 'width': 948.000...   \n4  001bd15d1891  [{'x': 623.23328, 'y': 1050, 'width': 714, 'he...   \n\n                                               label StudyInstanceUID  \\\n0  opacity 1 789.28836 582.43035 1815.94498 2499....     5776db0cec75   \n1                                     none 1 0 0 1 1     ff0879eb20ed   \n2  opacity 1 677.42216 197.97662 1545.21983 1197....     9d514ce429a7   \n3    opacity 1 2729 2181.33331 3677.00012 2785.33331     28dddc8559b2   \n4  opacity 1 623.23328 1050 1337.23328 2156 opaci...     dfd9fdd85a3e   \n\n   Negative for Pneumonia  Typical Appearance  Indeterminate Appearance  \\\n0                       0                   1                         0   \n1                       1                   0                         0   \n2                       0                   1                         0   \n3                       0                   0                         0   \n4                       0                   1                         0   \n\n   Atypical Appearance  \n0                    0  \n1                    0  \n2                    0  \n3                    1  \n4                    0  ",
      "text/html": "<div>\n<style scoped>\n    .dataframe tbody tr th:only-of-type {\n        vertical-align: middle;\n    }\n\n    .dataframe tbody tr th {\n        vertical-align: top;\n    }\n\n    .dataframe thead th {\n        text-align: right;\n    }\n</style>\n<table border=\"1\" class=\"dataframe\">\n  <thead>\n    <tr style=\"text-align: right;\">\n      <th></th>\n      <th>id</th>\n      <th>boxes</th>\n      <th>label</th>\n      <th>StudyInstanceUID</th>\n      <th>Negative for Pneumonia</th>\n      <th>Typical Appearance</th>\n      <th>Indeterminate Appearance</th>\n      <th>Atypical Appearance</th>\n    </tr>\n  </thead>\n  <tbody>\n    <tr>\n      <th>0</th>\n      <td>000a312787f2</td>\n      <td>[{'x': 789.28836, 'y': 582.43035, 'width': 102...</td>\n      <td>opacity 1 789.28836 582.43035 1815.94498 2499....</td>\n      <td>5776db0cec75</td>\n      <td>0</td>\n      <td>1</td>\n      <td>0</td>\n      <td>0</td>\n    </tr>\n    <tr>\n      <th>1</th>\n      <td>000c3a3f293f</td>\n      <td>NaN</td>\n      <td>none 1 0 0 1 1</td>\n      <td>ff0879eb20ed</td>\n      <td>1</td>\n      <td>0</td>\n      <td>0</td>\n      <td>0</td>\n    </tr>\n    <tr>\n      <th>2</th>\n      <td>0012ff7358bc</td>\n      <td>[{'x': 677.42216, 'y': 197.97662, 'width': 867...</td>\n      <td>opacity 1 677.42216 197.97662 1545.21983 1197....</td>\n      <td>9d514ce429a7</td>\n      <td>0</td>\n      <td>1</td>\n      <td>0</td>\n      <td>0</td>\n    </tr>\n    <tr>\n      <th>3</th>\n      <td>001398f4ff4f</td>\n      <td>[{'x': 2729, 'y': 2181.33331, 'width': 948.000...</td>\n      <td>opacity 1 2729 2181.33331 3677.00012 2785.33331</td>\n      <td>28dddc8559b2</td>\n      <td>0</td>\n      <td>0</td>\n      <td>0</td>\n      <td>1</td>\n    </tr>\n    <tr>\n      <th>4</th>\n      <td>001bd15d1891</td>\n      <td>[{'x': 623.23328, 'y': 1050, 'width': 714, 'he...</td>\n      <td>opacity 1 623.23328 1050 1337.23328 2156 opaci...</td>\n      <td>dfd9fdd85a3e</td>\n      <td>0</td>\n      <td>1</td>\n      <td>0</td>\n      <td>0</td>\n    </tr>\n  </tbody>\n</table>\n</div>"
     },
     "execution_count": 45,
     "metadata": {},
     "output_type": "execute_result"
    }
   ],
   "source": [
    "study_level_df['StudyInstanceUID'] = study_level_df['id'].apply(lambda x: x.replace('_study',''))\n",
    "study_level_df.drop('id',axis=1,inplace=True)\n",
    "train_df = image_level_df.merge(study_level_df,on='StudyInstanceUID')\n",
    "train_df['id'] = train_df['id'].apply(lambda x: x.replace('_image',''))\n",
    "train_df.sort_values(by='id',ascending=False)\n",
    "train_df.head()"
   ],
   "metadata": {
    "collapsed": false,
    "pycharm": {
     "name": "#%%\n"
    }
   }
  },
  {
   "cell_type": "code",
   "execution_count": 46,
   "outputs": [
    {
     "data": {
      "text/plain": "000a312787f2    1\na6f2e4c387f0    1\na6e715a47642    1\na6de43bd68d4    1\na6dca97e3503    1\n               ..\n500a498ca956    1\n4ffc2689420f    1\n4ff81f916fac    1\n4ff7b31b3269    1\nffe942c8655f    1\nName: id, Length: 6334, dtype: int64"
     },
     "execution_count": 46,
     "metadata": {},
     "output_type": "execute_result"
    }
   ],
   "source": [
    "train_df['id'].value_counts()"
   ],
   "metadata": {
    "collapsed": false,
    "pycharm": {
     "name": "#%%\n"
    }
   }
  },
  {
   "cell_type": "code",
   "execution_count": 48,
   "outputs": [
    {
     "data": {
      "text/plain": "(6334, 8)"
     },
     "execution_count": 48,
     "metadata": {},
     "output_type": "execute_result"
    }
   ],
   "source": [
    "train_df.shape"
   ],
   "metadata": {
    "collapsed": false,
    "pycharm": {
     "name": "#%%\n"
    }
   }
  },
  {
   "cell_type": "code",
   "execution_count": 13,
   "outputs": [],
   "source": [
    "paths = []\n",
    "for id in train_df['id']:\n",
    "    paths.append(os.path.join(SIIM_DETECTION_PATH,'train',id + '.jpg'))"
   ],
   "metadata": {
    "collapsed": false,
    "pycharm": {
     "name": "#%%\n"
    }
   }
  },
  {
   "cell_type": "code",
   "execution_count": 14,
   "outputs": [],
   "source": [
    "labels = []\n",
    "for id in train_df['id']:\n",
    "    if (train_df[train_df['id']==id]['Negative for Pneumonia'].values == 1):\n",
    "        labels.append('normal')\n",
    "    elif (train_df[train_df['id']==id]['Typical Appearance'].values == 1):\n",
    "        labels.append('COVID-19')\n",
    "    elif (train_df[train_df['id']==id]['Indeterminate Appearance'].values == 1):\n",
    "        labels.append('COVID-19')\n",
    "    elif (train_df[train_df['id']==id]['Atypical Appearance'].values == 1):\n",
    "        labels.append('COVID-19')\n",
    "    else:\n",
    "        raise Exception"
   ],
   "metadata": {
    "collapsed": false,
    "pycharm": {
     "name": "#%%\n"
    }
   }
  },
  {
   "cell_type": "code",
   "execution_count": 15,
   "outputs": [
    {
     "name": "stdout",
     "output_type": "stream",
     "text": [
      "{'normal': 120242, 'pneumonia': 24114, 'COVID-19': 12612}\n"
     ]
    }
   ],
   "source": [
    "for j,file in enumerate(paths):\n",
    "    count[labels[j]] += 1\n",
    "    entry = [int(count[labels[j]]),file,labels[j]]\n",
    "    filename_label[labels[j]].append(entry)\n",
    "print(count)"
   ],
   "metadata": {
    "collapsed": false,
    "pycharm": {
     "name": "#%%\n"
    }
   }
  },
  {
   "cell_type": "markdown",
   "source": [
    "# Reading from Masked-COVID-QU-Ex-Dataset"
   ],
   "metadata": {
    "collapsed": false,
    "pycharm": {
     "name": "#%% md\n"
    }
   }
  },
  {
   "cell_type": "code",
   "execution_count": 6,
   "outputs": [
    {
     "name": "stdout",
     "output_type": "stream",
     "text": [
      "{'normal': 71295, 'pneumonia': 34009, 'COVID-19': 19970}\n"
     ]
    }
   ],
   "source": [
    "for i,parent_directory in enumerate(os.listdir(COVID_QU_EX_PATH)):\n",
    "    if not parent_directory.startswith('.'):\n",
    "        full_parent_directory = os.path.join(COVID_QU_EX_PATH,parent_directory)\n",
    "        for j,category in enumerate(os.listdir(full_parent_directory)):\n",
    "            if not category.startswith('.'):\n",
    "                full_category_directory = os.path.join(full_parent_directory,category)\n",
    "                for k,img_dir in enumerate(os.listdir(full_category_directory)):\n",
    "                    if not img_dir.startswith('.'):\n",
    "                        img_dir = img_dir.replace(' ','_')\n",
    "                        count[category] += 1\n",
    "                        entry = [int(count[category]) ,os.path.join('Masked-COVID-QU-Ex-dataset',parent_directory,category,img_dir)\n",
    "                        , category]\n",
    "                        filename_label[category].append(entry)\n",
    "print(count)"
   ],
   "metadata": {
    "collapsed": false,
    "pycharm": {
     "name": "#%%\n"
    }
   }
  },
  {
   "cell_type": "markdown",
   "source": [
    "# Reading from COVID-QU-Ex-Dataset (No mask)"
   ],
   "metadata": {
    "collapsed": false,
    "pycharm": {
     "name": "#%% md\n"
    }
   }
  },
  {
   "cell_type": "code",
   "execution_count": null,
   "outputs": [],
   "source": [
    "for i,parent_directory in enumerate(os.listdir(COVID_QU_EX_PATH)):\n",
    "    if not parent_directory.startswith('.'):\n",
    "        full_parent_directory = os.path.join(COVID_QU_EX_PATH,parent_directory)\n",
    "        for j,category in enumerate(os.listdir(full_parent_directory)):\n",
    "            if not category.startswith('.'):\n",
    "                full_category_directory = os.path.join(full_parent_directory,category)\n",
    "                for k,img_dir in enumerate(os.listdir(full_category_directory)):\n",
    "                    if not img_dir.startswith('.'):\n",
    "                        count[category] += 1\n",
    "                        entry = [int(count[category]) ,os.path.join('COVID-QU-Ex-dataset',\n",
    "                                                                    'Lung Segmentation Data',\n",
    "                                                                    'Lung Segmentation Data'\n",
    "                                                                    ,parent_directory,\n",
    "                                                                    category,\n",
    "                                                                    'images',\n",
    "                                                                    img_dir)\n",
    "                        , category]\n",
    "                        filename_label[category].append(entry)\n",
    "print(count)"
   ],
   "metadata": {
    "collapsed": false,
    "pycharm": {
     "name": "#%%\n"
    }
   }
  },
  {
   "cell_type": "markdown",
   "source": [
    "### Finally, writing to txt file"
   ],
   "metadata": {
    "collapsed": false,
    "pycharm": {
     "name": "#%% md\n"
    }
   }
  },
  {
   "cell_type": "code",
   "execution_count": 7,
   "outputs": [
    {
     "name": "stdout",
     "output_type": "stream",
     "text": [
      "test count:  {'normal': 7129, 'pneumonia': 3400, 'COVID-19': 1997}\n",
      "train count:  {'normal': 64166, 'pneumonia': 30609, 'COVID-19': 17973}\n"
     ]
    }
   ],
   "source": [
    "np.random.seed(seed=2)\n",
    "test_per = 0.1\n",
    "for key in filename_label.keys():\n",
    "    if key == 'pneumonia':\n",
    "        test_patients = np.random.permutation(count[key])[:int(count[key]*test_per)]\n",
    "    elif key == 'COVID-19':\n",
    "        test_patients = np.random.permutation(count[key])[:int(count[key]*test_per)]\n",
    "    else:\n",
    "        test_patients = np.random.permutation(count[key])[:int(count[key]*test_per)]\n",
    "    for i,patient in enumerate(filename_label[key]):\n",
    "        if int(patient[0]) in test_patients:\n",
    "            test.append(patient)\n",
    "            test_count[key] += 1\n",
    "        else:\n",
    "            train.append(patient)\n",
    "            train_count[key] += 1\n",
    "\n",
    "print('test count: ', test_count)\n",
    "print('train count: ', train_count)"
   ],
   "metadata": {
    "collapsed": false,
    "pycharm": {
     "name": "#%%\n"
    }
   }
  },
  {
   "cell_type": "code",
   "execution_count": 8,
   "outputs": [],
   "source": [
    "WORK_DIR = os.path.dirname(os.path.realpath(__name__))\n",
    "WORK_DIR = Path(WORK_DIR)\n",
    "WORK_DIR = WORK_DIR.parent.absolute()\n",
    "train_file = open(os.path.join(WORK_DIR,'split_files/alvaro_train_split.txt'),\"w\")\n",
    "for sample in train:\n",
    "    info = str(sample[0]) + ' ' + sample[1] + ' ' + sample[2] + '\\n'\n",
    "    train_file.write(info)\n",
    "\n",
    "train_file.close()\n",
    "\n",
    "test_file = open(os.path.join(WORK_DIR,'split_files/alvaro_test_split.txt'), \"w\")\n",
    "for sample in test:\n",
    "    info = str(sample[0]) + ' ' + sample[1] + ' ' + sample[2] + '\\n'\n",
    "    test_file.write(info)\n",
    "\n",
    "test_file.close()"
   ],
   "metadata": {
    "collapsed": false,
    "pycharm": {
     "name": "#%%\n"
    }
   }
  },
  {
   "cell_type": "markdown",
   "source": [
    "# Building a Smaller DB for Testing"
   ],
   "metadata": {
    "collapsed": false,
    "pycharm": {
     "name": "#%% md\n"
    }
   }
  },
  {
   "cell_type": "code",
   "execution_count": 33,
   "outputs": [],
   "source": [
    "MAX_IMAGES_PER_CLASS = 1000"
   ],
   "metadata": {
    "collapsed": false,
    "pycharm": {
     "name": "#%%\n"
    }
   }
  },
  {
   "cell_type": "code",
   "execution_count": 34,
   "outputs": [],
   "source": [
    "train = []\n",
    "test = []\n",
    "test_count = {'normal': 0, 'pneumonia': 0, 'COVID-19': 0}\n",
    "train_count = {'normal': 0, 'pneumonia': 0, 'COVID-19': 0}\n",
    "filename_label = {'normal': [], 'pneumonia': [], 'COVID-19': []}\n",
    "path_label = {'normal': [], 'pneumonia': [], 'COVID-19': []}\n",
    "count = {'normal': 0, 'pneumonia': 0, 'COVID-19': 0}\n",
    "mapping = {0:'normal',1:'COVID-19',2:'pneumonia'}"
   ],
   "metadata": {
    "collapsed": false,
    "pycharm": {
     "name": "#%%\n"
    }
   }
  },
  {
   "cell_type": "markdown",
   "source": [
    "### For MAC"
   ],
   "metadata": {
    "collapsed": false,
    "pycharm": {
     "name": "#%% md\n"
    }
   }
  },
  {
   "cell_type": "code",
   "execution_count": 37,
   "outputs": [
    {
     "name": "stdout",
     "output_type": "stream",
     "text": [
      "{'normal': 1000, 'pneumonia': 1000, 'COVID-19': 1000}\n"
     ]
    }
   ],
   "source": [
    "for j,directory in enumerate(os.listdir(PAPER_IMAGES_PATH)):\n",
    "    if not directory.startswith('.'):\n",
    "        for i,file in enumerate(os.listdir(os.path.join(PAPER_IMAGES_PATH,directory))):\n",
    "            try:\n",
    "                cat = int(file.split('__')[1])\n",
    "            except Exception as e:\n",
    "                cat = int(file.split('_')[1])\n",
    "            finally:\n",
    "                if(count[mapping[cat]]<MAX_IMAGES_PER_CLASS):\n",
    "                    count[mapping[cat]] += 1\n",
    "                    entry = [int(count[mapping[cat]]),directory + '/' + file,mapping[cat]]\n",
    "                    filename_label[mapping[cat]].append(entry)\n",
    "print(count)"
   ],
   "metadata": {
    "collapsed": false,
    "pycharm": {
     "name": "#%%\n"
    }
   }
  },
  {
   "cell_type": "code",
   "execution_count": 38,
   "outputs": [
    {
     "name": "stdout",
     "output_type": "stream",
     "text": [
      "test count:  {'normal': 100, 'pneumonia': 100, 'COVID-19': 100}\n",
      "train count:  {'normal': 900, 'pneumonia': 900, 'COVID-19': 900}\n"
     ]
    }
   ],
   "source": [
    "np.random.seed(seed=2)\n",
    "test_per = 0.1\n",
    "for key in filename_label.keys():\n",
    "    if key == 'pneumonia':\n",
    "        test_patients = np.random.permutation(count[key])[:int(count[key]*test_per)]\n",
    "    elif key == 'COVID-19':\n",
    "        test_patients = np.random.permutation(count[key])[:int(count[key]*test_per)]\n",
    "    else:\n",
    "        test_patients = np.random.permutation(count[key])[:int(count[key]*test_per)]\n",
    "    for i,patient in enumerate(filename_label[key]):\n",
    "        if int(patient[0]) in test_patients:\n",
    "            test.append(patient)\n",
    "            test_count[key] += 1\n",
    "        else:\n",
    "            train.append(patient)\n",
    "            train_count[key] += 1\n",
    "\n",
    "print('test count: ', test_count)\n",
    "print('train count: ', train_count)"
   ],
   "metadata": {
    "collapsed": false,
    "pycharm": {
     "name": "#%%\n"
    }
   }
  },
  {
   "cell_type": "code",
   "execution_count": 39,
   "outputs": [],
   "source": [
    "WORK_DIR = os.path.dirname(os.path.realpath(__name__))\n",
    "WORK_DIR = Path(WORK_DIR)\n",
    "WORK_DIR = WORK_DIR.parent.absolute()\n",
    "\n",
    "train_file = open(os.path.join(WORK_DIR,'split_files/ubuntu_train_split.txt'),\"a+\")\n",
    "for sample in train:\n",
    "    info = str(sample[0]) + ' ' + sample[1] + ' ' + sample[2] + '\\n'\n",
    "    train_file.write(info)\n",
    "\n",
    "train_file.close()\n",
    "\n",
    "test_file = open(os.path.join(WORK_DIR,'split_files/ubuntu_test_split.txt'), \"a+\")\n",
    "for sample in test:\n",
    "    info = str(sample[0]) + ' ' + sample[1] + ' ' + sample[2] + '\\n'\n",
    "    test_file.write(info)\n",
    "\n",
    "test_file.close()"
   ],
   "metadata": {
    "collapsed": false,
    "pycharm": {
     "name": "#%%\n"
    }
   }
  },
  {
   "cell_type": "markdown",
   "source": [
    "# Full DB Building"
   ],
   "metadata": {
    "collapsed": false,
    "pycharm": {
     "name": "#%% md\n"
    }
   }
  },
  {
   "cell_type": "code",
   "execution_count": null,
   "outputs": [],
   "source": [
    "paths = ''"
   ],
   "metadata": {
    "collapsed": false,
    "pycharm": {
     "name": "#%%\n"
    }
   }
  }
 ],
 "metadata": {
  "kernelspec": {
   "display_name": "Python 3",
   "language": "python",
   "name": "python3"
  },
  "language_info": {
   "codemirror_mode": {
    "name": "ipython",
    "version": 2
   },
   "file_extension": ".py",
   "mimetype": "text/x-python",
   "name": "python",
   "nbconvert_exporter": "python",
   "pygments_lexer": "ipython2",
   "version": "2.7.6"
  }
 },
 "nbformat": 4,
 "nbformat_minor": 0
}