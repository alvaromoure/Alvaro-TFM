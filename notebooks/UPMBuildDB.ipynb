{
 "cells": [
  {
   "cell_type": "code",
   "execution_count": null,
   "metadata": {
    "collapsed": true,
    "pycharm": {
     "name": "#%%\n"
    }
   },
   "outputs": [],
   "source": [
    "import numpy as np\n",
    "import pandas as pd\n",
    "import os\n",
    "import random\n",
    "from shutil import copyfile\n",
    "#import pydicom as dicom\n",
    "import cv2\n",
    "from pathlib import Path"
   ]
  },
  {
   "cell_type": "code",
   "execution_count": null,
   "outputs": [],
   "source": [
    "PAPER_IMAGES_PATH = \"/media/usuario/WIN10/COVID19/images/PaperOriginal/\"\n"
   ],
   "metadata": {
    "collapsed": false,
    "pycharm": {
     "name": "#%%\n"
    }
   }
  },
  {
   "cell_type": "code",
   "execution_count": null,
   "outputs": [],
   "source": [
    "train = []\n",
    "test = []\n",
    "test_count = {'normal': 0, 'pneumonia': 0, 'COVID-19': 0}\n",
    "train_count = {'normal': 0, 'pneumonia': 0, 'COVID-19': 0}\n",
    "filename_label = {'normal': [], 'pneumonia': [], 'COVID-19': []}\n",
    "path_label = {'normal': [], 'pneumonia': [], 'COVID-19': []}\n",
    "count = {'normal': 0, 'pneumonia': 0, 'COVID-19': 0}\n",
    "mapping = {0:'normal',1:'COVID-19',2:'pneumonia'}"
   ],
   "metadata": {
    "collapsed": false,
    "pycharm": {
     "name": "#%%\n"
    }
   }
  },
  {
   "cell_type": "code",
   "execution_count": null,
   "outputs": [],
   "source": [
    "for i,file in enumerate(os.listdir(os.path.join(PAPER_IMAGES_PATH))):\n",
    "    try:\n",
    "        cat = int(file.split('__')[1])\n",
    "    except Exception as e:\n",
    "        cat = int(file.split('_')[1])\n",
    "    finally:\n",
    "        count[mapping[cat]] += 1\n",
    "        entry = [int(count[mapping[cat]])+ file,mapping[cat]]\n",
    "        filename_label[mapping[cat]].append(entry)\n",
    "print(count)"
   ],
   "metadata": {
    "collapsed": false,
    "pycharm": {
     "name": "#%%\n"
    }
   }
  },
  {
   "cell_type": "code",
   "execution_count": null,
   "outputs": [],
   "source": [
    "np.random.seed(seed=2)\n",
    "test_per = 0.1\n",
    "for key in filename_label.keys():\n",
    "    if key == 'pneumonia':\n",
    "        test_patients = np.random.permutation(count[key])[:int(count[key]*test_per)]\n",
    "    elif key == 'COVID-19':\n",
    "        test_patients = np.random.permutation(count[key])[:int(count[key]*test_per)]\n",
    "    else:\n",
    "        test_patients = np.random.permutation(count[key])[:int(count[key]*test_per)]\n",
    "    for i,patient in enumerate(filename_label[key]):\n",
    "        if int(patient[0]) in test_patients:\n",
    "            test.append(patient)\n",
    "            test_count[key] += 1\n",
    "        else:\n",
    "            train.append(patient)\n",
    "            train_count[key] += 1\n",
    "\n",
    "print('test count: ', test_count)\n",
    "print('train count: ', train_count)"
   ],
   "metadata": {
    "collapsed": false,
    "pycharm": {
     "name": "#%%\n"
    }
   }
  },
  {
   "cell_type": "code",
   "execution_count": null,
   "outputs": [],
   "source": [
    "WORK_DIR = os.path.dirname(os.path.realpath(__name__))\n",
    "WORK_DIR = Path(WORK_DIR)\n",
    "WORK_DIR = WORK_DIR.parent.absolute()\n",
    "train_file = open(os.path.join(WORK_DIR,'split_files/ubuntu_train_split.txt'),\"a+\")\n",
    "for sample in train:\n",
    "    info = str(sample[0]) + ' ' + sample[1] + ' ' + sample[2] + '\\n'\n",
    "    train_file.write(info)\n",
    "\n",
    "train_file.close()\n",
    "\n",
    "test_file = open(os.path.join(WORK_DIR,'split_files/ubuntu_test_split.txt'), \"a+\")\n",
    "for sample in test:\n",
    "    info = str(sample[0]) + ' ' + sample[1] + ' ' + sample[2] + '\\n'\n",
    "    test_file.write(info)\n",
    "\n",
    "test_file.close()"
   ],
   "metadata": {
    "collapsed": false,
    "pycharm": {
     "name": "#%%\n"
    }
   }
  }
 ],
 "metadata": {
  "kernelspec": {
   "display_name": "Python 3",
   "language": "python",
   "name": "python3"
  },
  "language_info": {
   "codemirror_mode": {
    "name": "ipython",
    "version": 2
   },
   "file_extension": ".py",
   "mimetype": "text/x-python",
   "name": "python",
   "nbconvert_exporter": "python",
   "pygments_lexer": "ipython2",
   "version": "2.7.6"
  }
 },
 "nbformat": 4,
 "nbformat_minor": 0
}