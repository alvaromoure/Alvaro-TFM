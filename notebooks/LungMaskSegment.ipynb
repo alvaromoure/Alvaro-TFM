{
 "cells": [
  {
   "cell_type": "code",
   "execution_count": 3,
   "metadata": {
    "collapsed": true,
    "pycharm": {
     "name": "#%%\n"
    }
   },
   "outputs": [],
   "source": [
    "import cv2\n",
    "import os"
   ]
  },
  {
   "cell_type": "markdown",
   "source": [
    "# Paths Definition"
   ],
   "metadata": {
    "collapsed": false,
    "pycharm": {
     "name": "#%% md\n"
    }
   }
  },
  {
   "cell_type": "code",
   "execution_count": 4,
   "outputs": [],
   "source": [
    "IMAGE_PATH = '/Users/alvaromoure/Downloads/archive/LungSegmentationData/LungSegmentationData'\n",
    "MASKED_IMAGE_PATH = '/Users/alvaromoure/Downloads/archive/LungSegmentationData/MaskedImages'"
   ],
   "metadata": {
    "collapsed": false,
    "pycharm": {
     "name": "#%%\n"
    }
   }
  },
  {
   "cell_type": "markdown",
   "source": [
    "# CODE"
   ],
   "metadata": {
    "collapsed": false,
    "pycharm": {
     "name": "#%% md\n"
    }
   }
  },
  {
   "cell_type": "code",
   "execution_count": 7,
   "outputs": [],
   "source": [
    "for i,parent_directory in enumerate(os.listdir(IMAGE_PATH)):\n",
    "    if not parent_directory.startswith('.'):\n",
    "        full_parent_directory = os.path.join(IMAGE_PATH,parent_directory)\n",
    "        for j,category in enumerate(os.listdir(full_parent_directory)):\n",
    "            if not category.startswith('.'):\n",
    "                full_category_directory = os.path.join(full_parent_directory,category)\n",
    "                child_img_dir = os.path.join(full_category_directory,'images')\n",
    "                child_mask_dir = os.path.join(full_category_directory,'lung masks')\n",
    "                for k,img_dir in enumerate(os.listdir(child_img_dir)):\n",
    "                    if not img_dir.startswith('.'):\n",
    "                        image = cv2.imread(os.path.join(child_img_dir,img_dir))\n",
    "                        mask = cv2.imread(os.path.join(child_mask_dir,img_dir),0)\n",
    "                        masked_image = cv2.bitwise_and(image,image,mask=mask)\n",
    "                        cv2.imwrite(os.path.join(MASKED_IMAGE_PATH,parent_directory,category,'masked_'+img_dir),masked_image)"
   ],
   "metadata": {
    "collapsed": false,
    "pycharm": {
     "name": "#%%\n"
    }
   }
  },
  {
   "cell_type": "code",
   "execution_count": null,
   "outputs": [],
   "source": [],
   "metadata": {
    "collapsed": false,
    "pycharm": {
     "name": "#%%\n"
    }
   }
  }
 ],
 "metadata": {
  "kernelspec": {
   "display_name": "Python 3",
   "language": "python",
   "name": "python3"
  },
  "language_info": {
   "codemirror_mode": {
    "name": "ipython",
    "version": 2
   },
   "file_extension": ".py",
   "mimetype": "text/x-python",
   "name": "python",
   "nbconvert_exporter": "python",
   "pygments_lexer": "ipython2",
   "version": "2.7.6"
  }
 },
 "nbformat": 4,
 "nbformat_minor": 0
}