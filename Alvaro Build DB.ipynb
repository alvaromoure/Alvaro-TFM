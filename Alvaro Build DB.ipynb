{
 "cells": [
  {
   "cell_type": "code",
   "execution_count": 5,
   "metadata": {
    "collapsed": true,
    "pycharm": {
     "name": "#%%\n"
    }
   },
   "outputs": [],
   "source": [
    "import numpy as np\n",
    "import pandas as pd\n",
    "import os\n",
    "import random\n",
    "from shutil import copyfile\n",
    "#import pydicom as dicom\n",
    "import cv2"
   ]
  },
  {
   "cell_type": "markdown",
   "source": [
    "# Paths Definition"
   ],
   "metadata": {
    "collapsed": false,
    "pycharm": {
     "name": "#%% md\n"
    }
   }
  },
  {
   "cell_type": "code",
   "execution_count": 3,
   "outputs": [
    {
     "data": {
      "text/plain": "'/Users/alvaromoure/Desarrollo/UPM/TFM/Alvaro-TFM'"
     },
     "execution_count": 3,
     "metadata": {},
     "output_type": "execute_result"
    }
   ],
   "source": [
    "BASE_PATH = os.path.dirname(os.path.realpath(__name__))\n",
    "BASE_PATH"
   ],
   "metadata": {
    "collapsed": false,
    "pycharm": {
     "name": "#%%\n"
    }
   }
  },
  {
   "cell_type": "markdown",
   "source": [
    "### Paths in Ubuntu"
   ],
   "metadata": {
    "collapsed": false,
    "pycharm": {
     "name": "#%% md\n"
    }
   }
  },
  {
   "cell_type": "code",
   "execution_count": 9,
   "outputs": [],
   "source": [
    "SIMM_COVID_DETECTION_PATH = \"/media/usuario/WIN10/COVID19/images/SIIM-Detection/siim-covid19-detection\"\n",
    "PAPER_IMAGES_PATH = \"/media/usuario/WIN10/COVID19/images/PaperOriginal/\"\n",
    "TEST_PATH = \"/media/usuario/WIN10/COVID19/images/test\""
   ],
   "metadata": {
    "collapsed": false,
    "pycharm": {
     "name": "#%%\n"
    }
   }
  },
  {
   "cell_type": "markdown",
   "source": [
    "### Paths in MAC"
   ],
   "metadata": {
    "collapsed": false,
    "pycharm": {
     "name": "#%% md\n"
    }
   }
  },
  {
   "cell_type": "code",
   "execution_count": 15,
   "outputs": [],
   "source": [
    "\n",
    "PAPER_IMAGES_PATH = \"/Volumes/Alvaro HD/UPM/Corpus TFM/COVID/CroppedSegmentedImages/\"\n"
   ],
   "metadata": {
    "collapsed": false,
    "pycharm": {
     "name": "#%%\n"
    }
   }
  },
  {
   "cell_type": "markdown",
   "source": [
    "# Reading from paper files"
   ],
   "metadata": {
    "collapsed": false,
    "pycharm": {
     "name": "#%% md\n"
    }
   }
  },
  {
   "cell_type": "code",
   "execution_count": null,
   "outputs": [],
   "source": [
    "train = []\n",
    "test = []\n",
    "test_count = {'normal': 0, 'pneumonia': 0, 'COVID-19': 0}\n",
    "train_count = {'normal': 0, 'pneumonia': 0, 'COVID-19': 0}\n",
    "filename_label = {'normal': [], 'pneumonia': [], 'COVID-19': []}\n",
    "path_label = {'normal': [], 'pneumonia': [], 'COVID-19': []}\n",
    "count = {'normal': 0, 'pneumonia': 0, 'COVID-19': 0}\n",
    "mapping = {0:'normal',1:'COVID-19',2:'pneumonia'}"
   ],
   "metadata": {
    "collapsed": false,
    "pycharm": {
     "name": "#%%\n"
    }
   }
  },
  {
   "cell_type": "code",
   "execution_count": 83,
   "outputs": [
    {
     "name": "stdout",
     "output_type": "stream",
     "text": [
      "{'normal': 118383, 'pneumonia': 24101, 'COVID-19': 8010}\n"
     ]
    }
   ],
   "source": [
    "for j,file in enumerate(os.listdir(PAPER_IMAGES_PATH)):\n",
    "    try:\n",
    "        cat = int(file.split('__')[1])\n",
    "    except Exception as e:\n",
    "        cat = int(file.split('_')[1])\n",
    "    finally:\n",
    "        count[mapping[cat]] += 1\n",
    "        entry = [int(count[mapping[cat]]),file,mapping[cat]]\n",
    "        filename_label[mapping[cat]].append(entry)\n",
    "print(count)"
   ],
   "metadata": {
    "collapsed": false,
    "pycharm": {
     "name": "#%%\n"
    }
   }
  },
  {
   "cell_type": "code",
   "execution_count": 58,
   "outputs": [
    {
     "data": {
      "text/plain": "{'normal': [[1, 'ACT__0__n__PA__CR__ANON1__1__ANON1.png', 'normal'],\n  [2, 'ACT__0__n__PA__CR__ANON22__1__ANON22.png', 'normal'],\n  [3, 'ACT__0__n__PA__CR__ANON40__1__ANON40.png', 'normal'],\n  [4, 'ACT__0__n__PA__CR__ANON56__1__ANON56.png', 'normal']],\n 'pneumonia': [],\n 'COVID-19': []}"
     },
     "execution_count": 58,
     "metadata": {},
     "output_type": "execute_result"
    }
   ],
   "source": [
    "filename_label"
   ],
   "metadata": {
    "collapsed": false,
    "pycharm": {
     "name": "#%%\n"
    }
   }
  },
  {
   "cell_type": "code",
   "execution_count": 84,
   "outputs": [
    {
     "name": "stdout",
     "output_type": "stream",
     "text": [
      "test count:  {'normal': 11838, 'pneumonia': 2410, 'COVID-19': 801}\n",
      "train count:  {'normal': 106545, 'pneumonia': 21691, 'COVID-19': 7209}\n"
     ]
    }
   ],
   "source": [
    "np.random.seed(seed=2)\n",
    "test_per = 0.1\n",
    "for key in filename_label.keys():\n",
    "    if key == 'pneumonia':\n",
    "        test_patients = np.random.permutation(count[key])[:int(count[key]*test_per)]\n",
    "    elif key == 'COVID-19':\n",
    "        test_patients = np.random.permutation(count[key])[:int(count[key]*test_per)]\n",
    "    else:\n",
    "        test_patients = np.random.permutation(count[key])[:int(count[key]*test_per)]\n",
    "    for i,patient in enumerate(filename_label[key]):\n",
    "        if int(patient[0]) in test_patients:\n",
    "            test.append(patient)\n",
    "            test_count[key] += 1\n",
    "        else:\n",
    "            train.append(patient)\n",
    "            train_count[key] += 1\n",
    "\n",
    "print('test count: ', test_count)\n",
    "print('train count: ', train_count)"
   ],
   "metadata": {
    "collapsed": false,
    "pycharm": {
     "name": "#%%\n"
    }
   }
  },
  {
   "cell_type": "code",
   "execution_count": 85,
   "outputs": [],
   "source": [
    "train_file = open(os.path.join(BASE_PATH,\"train_split_alvaro.txt\"),\"a\")\n",
    "for sample in train:\n",
    "    info = str(sample[0]) + ' ' + sample[1] + ' ' + sample[2] + '\\n'\n",
    "    train_file.write(info)\n",
    "\n",
    "train_file.close()\n",
    "\n",
    "test_file = open(os.path.join(BASE_PATH,\"test_split_alvaro.txt\"), \"a\")\n",
    "for sample in test:\n",
    "    info = str(sample[0]) + ' ' + sample[1] + ' ' + sample[2] + '\\n'\n",
    "    test_file.write(info)\n",
    "\n",
    "test_file.close()"
   ],
   "metadata": {
    "collapsed": false,
    "pycharm": {
     "name": "#%%\n"
    }
   }
  },
  {
   "cell_type": "markdown",
   "source": [
    "# Building a Smaller DB for Testing"
   ],
   "metadata": {
    "collapsed": false,
    "pycharm": {
     "name": "#%% md\n"
    }
   }
  },
  {
   "cell_type": "code",
   "execution_count": 16,
   "outputs": [],
   "source": [
    "MAX_IMAGES_PER_CLASS = 8000"
   ],
   "metadata": {
    "collapsed": false,
    "pycharm": {
     "name": "#%%\n"
    }
   }
  },
  {
   "cell_type": "code",
   "execution_count": 30,
   "outputs": [],
   "source": [
    "train = []\n",
    "test = []\n",
    "test_count = {'normal': 0, 'pneumonia': 0, 'COVID-19': 0}\n",
    "train_count = {'normal': 0, 'pneumonia': 0, 'COVID-19': 0}\n",
    "filename_label = {'normal': [], 'pneumonia': [], 'COVID-19': []}\n",
    "path_label = {'normal': [], 'pneumonia': [], 'COVID-19': []}\n",
    "count = {'normal': 0, 'pneumonia': 0, 'COVID-19': 0}\n",
    "mapping = {0:'normal',1:'COVID-19',2:'pneumonia'}"
   ],
   "metadata": {
    "collapsed": false,
    "pycharm": {
     "name": "#%%\n"
    }
   }
  },
  {
   "cell_type": "markdown",
   "source": [
    "### For MAC"
   ],
   "metadata": {
    "collapsed": false,
    "pycharm": {
     "name": "#%% md\n"
    }
   }
  },
  {
   "cell_type": "code",
   "execution_count": 31,
   "outputs": [
    {
     "name": "stdout",
     "output_type": "stream",
     "text": [
      "{'normal': 8000, 'pneumonia': 8000, 'COVID-19': 8000}\n"
     ]
    }
   ],
   "source": [
    "for j,directory in enumerate(os.listdir(PAPER_IMAGES_PATH)):\n",
    "    if not directory.startswith('.'):\n",
    "        for i,file in enumerate(os.listdir(os.path.join(PAPER_IMAGES_PATH,directory))):\n",
    "            try:\n",
    "                cat = int(file.split('__')[1])\n",
    "            except Exception as e:\n",
    "                cat = int(file.split('_')[1])\n",
    "            finally:\n",
    "                if(count[mapping[cat]]<MAX_IMAGES_PER_CLASS):\n",
    "                    count[mapping[cat]] += 1\n",
    "                    entry = [int(count[mapping[cat]]),directory + '/' + file,mapping[cat]]\n",
    "                    filename_label[mapping[cat]].append(entry)\n",
    "print(count)"
   ],
   "metadata": {
    "collapsed": false,
    "pycharm": {
     "name": "#%%\n"
    }
   }
  },
  {
   "cell_type": "code",
   "execution_count": 32,
   "outputs": [
    {
     "name": "stdout",
     "output_type": "stream",
     "text": [
      "test count:  {'normal': 800, 'pneumonia': 800, 'COVID-19': 800}\n",
      "train count:  {'normal': 7200, 'pneumonia': 7200, 'COVID-19': 7200}\n"
     ]
    }
   ],
   "source": [
    "np.random.seed(seed=2)\n",
    "test_per = 0.1\n",
    "for key in filename_label.keys():\n",
    "    if key == 'pneumonia':\n",
    "        test_patients = np.random.permutation(count[key])[:int(count[key]*test_per)]\n",
    "    elif key == 'COVID-19':\n",
    "        test_patients = np.random.permutation(count[key])[:int(count[key]*test_per)]\n",
    "    else:\n",
    "        test_patients = np.random.permutation(count[key])[:int(count[key]*test_per)]\n",
    "    for i,patient in enumerate(filename_label[key]):\n",
    "        if int(patient[0]) in test_patients:\n",
    "            test.append(patient)\n",
    "            test_count[key] += 1\n",
    "        else:\n",
    "            train.append(patient)\n",
    "            train_count[key] += 1\n",
    "\n",
    "print('test count: ', test_count)\n",
    "print('train count: ', train_count)"
   ],
   "metadata": {
    "collapsed": false,
    "pycharm": {
     "name": "#%%\n"
    }
   }
  },
  {
   "cell_type": "code",
   "execution_count": 33,
   "outputs": [],
   "source": [
    "train_file = open(os.path.join(BASE_PATH,\"train_split_small.txt\"),\"a\")\n",
    "for sample in train:\n",
    "    info = str(sample[0]) + ' ' + sample[1] + ' ' + sample[2] + '\\n'\n",
    "    train_file.write(info)\n",
    "\n",
    "train_file.close()\n",
    "\n",
    "test_file = open(os.path.join(BASE_PATH,\"test_split_small.txt\"), \"a\")\n",
    "for sample in test:\n",
    "    info = str(sample[0]) + ' ' + sample[1] + ' ' + sample[2] + '\\n'\n",
    "    test_file.write(info)\n",
    "\n",
    "test_file.close()"
   ],
   "metadata": {
    "collapsed": false,
    "pycharm": {
     "name": "#%%\n"
    }
   }
  },
  {
   "cell_type": "code",
   "execution_count": null,
   "outputs": [],
   "source": [],
   "metadata": {
    "collapsed": false,
    "pycharm": {
     "name": "#%%\n"
    }
   }
  }
 ],
 "metadata": {
  "kernelspec": {
   "display_name": "Python 3",
   "language": "python",
   "name": "python3"
  },
  "language_info": {
   "codemirror_mode": {
    "name": "ipython",
    "version": 2
   },
   "file_extension": ".py",
   "mimetype": "text/x-python",
   "name": "python",
   "nbconvert_exporter": "python",
   "pygments_lexer": "ipython2",
   "version": "2.7.6"
  }
 },
 "nbformat": 4,
 "nbformat_minor": 0
}